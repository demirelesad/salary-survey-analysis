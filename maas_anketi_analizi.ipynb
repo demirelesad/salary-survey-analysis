{
 "cells": [
  {
   "cell_type": "markdown",
   "id": "dbab35b3",
   "metadata": {},
   "source": [
    "## Kütüphaneleri Ekleme ve Veri Setini Okuma"
   ]
  },
  {
   "cell_type": "code",
   "execution_count": 1,
   "id": "ccb66c7f",
   "metadata": {},
   "outputs": [],
   "source": [
    "import json\n",
    "import pandas as pd\n",
    "import numpy as np"
   ]
  },
  {
   "cell_type": "code",
   "execution_count": 2,
   "id": "aafe2ca1",
   "metadata": {},
   "outputs": [],
   "source": [
    "df21 = pd.read_json(\"maas-anketi-2021.json\", orient = \"split\")"
   ]
  },
  {
   "cell_type": "code",
   "execution_count": 3,
   "id": "be298848",
   "metadata": {},
   "outputs": [
    {
     "data": {
      "text/html": [
       "<div>\n",
       "<style scoped>\n",
       "    .dataframe tbody tr th:only-of-type {\n",
       "        vertical-align: middle;\n",
       "    }\n",
       "\n",
       "    .dataframe tbody tr th {\n",
       "        vertical-align: top;\n",
       "    }\n",
       "\n",
       "    .dataframe thead th {\n",
       "        text-align: right;\n",
       "    }\n",
       "</style>\n",
       "<table border=\"1\" class=\"dataframe\">\n",
       "  <thead>\n",
       "    <tr style=\"text-align: right;\">\n",
       "      <th></th>\n",
       "      <th>level</th>\n",
       "      <th>position</th>\n",
       "      <th>tech_stack</th>\n",
       "      <th>experience</th>\n",
       "      <th>gender</th>\n",
       "      <th>company</th>\n",
       "      <th>company_size</th>\n",
       "      <th>work_type</th>\n",
       "      <th>city</th>\n",
       "      <th>currency</th>\n",
       "      <th>salary_for_other_currency</th>\n",
       "      <th>salary_for_tl_currency</th>\n",
       "      <th>year</th>\n",
       "    </tr>\n",
       "  </thead>\n",
       "  <tbody>\n",
       "    <tr>\n",
       "      <th>0</th>\n",
       "      <td>Middle</td>\n",
       "      <td>Back-end Developer</td>\n",
       "      <td>Php</td>\n",
       "      <td>3 - 5 Yıl</td>\n",
       "      <td>Erkek</td>\n",
       "      <td>Kurumsal</td>\n",
       "      <td>50 - 100 Kişi</td>\n",
       "      <td>Remote</td>\n",
       "      <td>Yurt Dışı</td>\n",
       "      <td>€ - Euro</td>\n",
       "      <td>2.000 - 2.999</td>\n",
       "      <td></td>\n",
       "      <td>2021</td>\n",
       "    </tr>\n",
       "    <tr>\n",
       "      <th>1</th>\n",
       "      <td>Junior</td>\n",
       "      <td>Back-end Developer</td>\n",
       "      <td>Java</td>\n",
       "      <td>1 - 3 Yıl</td>\n",
       "      <td>Erkek</td>\n",
       "      <td>Startup</td>\n",
       "      <td>100 - 250 Kişi</td>\n",
       "      <td>Pandemi Nedeniyle; Geçici Olarak Remote</td>\n",
       "      <td>İstanbul</td>\n",
       "      <td>₺ - Türk Lirası</td>\n",
       "      <td></td>\n",
       "      <td>8.000 TL - 8.999 TL</td>\n",
       "      <td>2021</td>\n",
       "    </tr>\n",
       "    <tr>\n",
       "      <th>2</th>\n",
       "      <td>Junior</td>\n",
       "      <td>Back-end Developer</td>\n",
       "      <td>.Net</td>\n",
       "      <td>1 - 3 Yıl</td>\n",
       "      <td>Erkek</td>\n",
       "      <td>E-Ticaret</td>\n",
       "      <td>250+</td>\n",
       "      <td>Ofis</td>\n",
       "      <td>İzmir</td>\n",
       "      <td>₺ - Türk Lirası</td>\n",
       "      <td></td>\n",
       "      <td>3.000 TL - 3.999 TL</td>\n",
       "      <td>2021</td>\n",
       "    </tr>\n",
       "    <tr>\n",
       "      <th>3</th>\n",
       "      <td>Junior</td>\n",
       "      <td>Front-end Developer</td>\n",
       "      <td>JavaScript | Html | Css, React</td>\n",
       "      <td>0 - 1 Yıl</td>\n",
       "      <td>Erkek</td>\n",
       "      <td>Startup</td>\n",
       "      <td>10 - 25 Kişi</td>\n",
       "      <td>Remote</td>\n",
       "      <td>Yurt Dışı</td>\n",
       "      <td>₺ - Türk Lirası</td>\n",
       "      <td></td>\n",
       "      <td>3.000 TL - 3.999 TL</td>\n",
       "      <td>2021</td>\n",
       "    </tr>\n",
       "    <tr>\n",
       "      <th>4</th>\n",
       "      <td>Middle</td>\n",
       "      <td>Front-end Developer</td>\n",
       "      <td>.Net</td>\n",
       "      <td>1 - 3 Yıl</td>\n",
       "      <td>Kadın</td>\n",
       "      <td>Kurumsal</td>\n",
       "      <td>250+</td>\n",
       "      <td>Ofis</td>\n",
       "      <td>İstanbul</td>\n",
       "      <td>₺ - Türk Lirası</td>\n",
       "      <td></td>\n",
       "      <td>9.000 TL - 9.999 TL</td>\n",
       "      <td>2021</td>\n",
       "    </tr>\n",
       "  </tbody>\n",
       "</table>\n",
       "</div>"
      ],
      "text/plain": [
       "    level             position                      tech_stack experience  \\\n",
       "0  Middle   Back-end Developer                             Php  3 - 5 Yıl   \n",
       "1  Junior   Back-end Developer                            Java  1 - 3 Yıl   \n",
       "2  Junior   Back-end Developer                            .Net  1 - 3 Yıl   \n",
       "3  Junior  Front-end Developer  JavaScript | Html | Css, React  0 - 1 Yıl   \n",
       "4  Middle  Front-end Developer                            .Net  1 - 3 Yıl   \n",
       "\n",
       "  gender    company    company_size                                work_type  \\\n",
       "0  Erkek   Kurumsal   50 - 100 Kişi                                   Remote   \n",
       "1  Erkek    Startup  100 - 250 Kişi  Pandemi Nedeniyle; Geçici Olarak Remote   \n",
       "2  Erkek  E-Ticaret            250+                                     Ofis   \n",
       "3  Erkek    Startup    10 - 25 Kişi                                   Remote   \n",
       "4  Kadın   Kurumsal            250+                                     Ofis   \n",
       "\n",
       "        city         currency salary_for_other_currency  \\\n",
       "0  Yurt Dışı         € - Euro             2.000 - 2.999   \n",
       "1   İstanbul  ₺ - Türk Lirası                             \n",
       "2      İzmir  ₺ - Türk Lirası                             \n",
       "3  Yurt Dışı  ₺ - Türk Lirası                             \n",
       "4   İstanbul  ₺ - Türk Lirası                             \n",
       "\n",
       "  salary_for_tl_currency  year  \n",
       "0                         2021  \n",
       "1    8.000 TL - 8.999 TL  2021  \n",
       "2    3.000 TL - 3.999 TL  2021  \n",
       "3    3.000 TL - 3.999 TL  2021  \n",
       "4    9.000 TL - 9.999 TL  2021  "
      ]
     },
     "execution_count": 3,
     "metadata": {},
     "output_type": "execute_result"
    }
   ],
   "source": [
    "df21['year'] = 2021\n",
    "df21.head(5)"
   ]
  },
  {
   "cell_type": "code",
   "execution_count": 4,
   "id": "2e7f1325",
   "metadata": {},
   "outputs": [
    {
     "data": {
      "text/plain": [
       "(2636, 13)"
      ]
     },
     "execution_count": 4,
     "metadata": {},
     "output_type": "execute_result"
    }
   ],
   "source": [
    "df21.shape"
   ]
  },
  {
   "cell_type": "code",
   "execution_count": 5,
   "id": "a1726a6b",
   "metadata": {},
   "outputs": [],
   "source": [
    "with open(\"maas-anketi-2022.json\",\"r\") as d:\n",
    "    veriler = json.load(d)"
   ]
  },
  {
   "cell_type": "code",
   "execution_count": 6,
   "id": "3e3b915d",
   "metadata": {},
   "outputs": [],
   "source": [
    "df22 = pd.DataFrame(veriler[\"RECORDS\"])"
   ]
  },
  {
   "cell_type": "code",
   "execution_count": 7,
   "id": "c70d23da",
   "metadata": {},
   "outputs": [
    {
     "data": {
      "text/html": [
       "<div>\n",
       "<style scoped>\n",
       "    .dataframe tbody tr th:only-of-type {\n",
       "        vertical-align: middle;\n",
       "    }\n",
       "\n",
       "    .dataframe tbody tr th {\n",
       "        vertical-align: top;\n",
       "    }\n",
       "\n",
       "    .dataframe thead th {\n",
       "        text-align: right;\n",
       "    }\n",
       "</style>\n",
       "<table border=\"1\" class=\"dataframe\">\n",
       "  <thead>\n",
       "    <tr style=\"text-align: right;\">\n",
       "      <th></th>\n",
       "      <th>level</th>\n",
       "      <th>position</th>\n",
       "      <th>tech_stack</th>\n",
       "      <th>experience</th>\n",
       "      <th>gender</th>\n",
       "      <th>company</th>\n",
       "      <th>company_size</th>\n",
       "      <th>work_type</th>\n",
       "      <th>city</th>\n",
       "      <th>currency</th>\n",
       "      <th>salary_for_other_currency</th>\n",
       "      <th>salary_for_tl_currency</th>\n",
       "      <th>year</th>\n",
       "    </tr>\n",
       "  </thead>\n",
       "  <tbody>\n",
       "    <tr>\n",
       "      <th>0</th>\n",
       "      <td>Middle</td>\n",
       "      <td>Back-end Developer</td>\n",
       "      <td>Php</td>\n",
       "      <td>3 - 5 Yıl</td>\n",
       "      <td>Erkek</td>\n",
       "      <td>Startup</td>\n",
       "      <td>25 - 50 Kişi</td>\n",
       "      <td>Hibrit (Ofis + Remote)</td>\n",
       "      <td>İstanbul</td>\n",
       "      <td>₺ - Türk Lirası</td>\n",
       "      <td>None</td>\n",
       "      <td>15.000 TL - 15.999 TL</td>\n",
       "      <td>2022</td>\n",
       "    </tr>\n",
       "    <tr>\n",
       "      <th>1</th>\n",
       "      <td>Junior</td>\n",
       "      <td>Front-end Developer</td>\n",
       "      <td>React</td>\n",
       "      <td>0 - 1 Yıl</td>\n",
       "      <td>Erkek</td>\n",
       "      <td>Startup</td>\n",
       "      <td>10 - 25 Kişi</td>\n",
       "      <td>Hibrit (Ofis + Remote)</td>\n",
       "      <td>İstanbul</td>\n",
       "      <td>₺ - Türk Lirası</td>\n",
       "      <td>None</td>\n",
       "      <td>8.000 TL - 8.999 TL</td>\n",
       "      <td>2022</td>\n",
       "    </tr>\n",
       "    <tr>\n",
       "      <th>2</th>\n",
       "      <td>Middle</td>\n",
       "      <td>Back-end Developer</td>\n",
       "      <td>.Net</td>\n",
       "      <td>1 - 3 Yıl</td>\n",
       "      <td>Erkek</td>\n",
       "      <td>Outsource</td>\n",
       "      <td>10 - 25 Kişi</td>\n",
       "      <td>Remote</td>\n",
       "      <td>İstanbul</td>\n",
       "      <td>₺ - Türk Lirası</td>\n",
       "      <td>None</td>\n",
       "      <td>15.000 TL - 15.999 TL</td>\n",
       "      <td>2022</td>\n",
       "    </tr>\n",
       "    <tr>\n",
       "      <th>3</th>\n",
       "      <td>Junior</td>\n",
       "      <td>Full Stack Developer</td>\n",
       "      <td>Java, JavaScript | Html | Css, React, React Na...</td>\n",
       "      <td>1 - 3 Yıl</td>\n",
       "      <td>Erkek</td>\n",
       "      <td>Startup</td>\n",
       "      <td>10 - 25 Kişi</td>\n",
       "      <td>Hibrit (Ofis + Remote)</td>\n",
       "      <td>İstanbul</td>\n",
       "      <td>₺ - Türk Lirası</td>\n",
       "      <td>None</td>\n",
       "      <td>10.000 TL - 10.999 TL</td>\n",
       "      <td>2022</td>\n",
       "    </tr>\n",
       "    <tr>\n",
       "      <th>4</th>\n",
       "      <td>Junior</td>\n",
       "      <td>Back-end Developer</td>\n",
       "      <td>.Net, JavaScript | Html | Css</td>\n",
       "      <td>0 - 1 Yıl</td>\n",
       "      <td>Erkek</td>\n",
       "      <td>Kurumsal</td>\n",
       "      <td>250+</td>\n",
       "      <td>Pandemi Nedeniyle; Geçici Olarak Hibrit (Ofis ...</td>\n",
       "      <td>Kocaeli</td>\n",
       "      <td>₺ - Türk Lirası</td>\n",
       "      <td>None</td>\n",
       "      <td>5.000 TL - 5.999 TL</td>\n",
       "      <td>2022</td>\n",
       "    </tr>\n",
       "  </tbody>\n",
       "</table>\n",
       "</div>"
      ],
      "text/plain": [
       "    level              position  \\\n",
       "0  Middle    Back-end Developer   \n",
       "1  Junior   Front-end Developer   \n",
       "2  Middle    Back-end Developer   \n",
       "3  Junior  Full Stack Developer   \n",
       "4  Junior    Back-end Developer   \n",
       "\n",
       "                                          tech_stack experience gender  \\\n",
       "0                                                Php  3 - 5 Yıl  Erkek   \n",
       "1                                              React  0 - 1 Yıl  Erkek   \n",
       "2                                               .Net  1 - 3 Yıl  Erkek   \n",
       "3  Java, JavaScript | Html | Css, React, React Na...  1 - 3 Yıl  Erkek   \n",
       "4                      .Net, JavaScript | Html | Css  0 - 1 Yıl  Erkek   \n",
       "\n",
       "     company  company_size                                          work_type  \\\n",
       "0    Startup  25 - 50 Kişi                             Hibrit (Ofis + Remote)   \n",
       "1    Startup  10 - 25 Kişi                             Hibrit (Ofis + Remote)   \n",
       "2  Outsource  10 - 25 Kişi                                             Remote   \n",
       "3    Startup  10 - 25 Kişi                             Hibrit (Ofis + Remote)   \n",
       "4   Kurumsal          250+  Pandemi Nedeniyle; Geçici Olarak Hibrit (Ofis ...   \n",
       "\n",
       "       city         currency salary_for_other_currency salary_for_tl_currency  \\\n",
       "0  İstanbul  ₺ - Türk Lirası                      None  15.000 TL - 15.999 TL   \n",
       "1  İstanbul  ₺ - Türk Lirası                      None    8.000 TL - 8.999 TL   \n",
       "2  İstanbul  ₺ - Türk Lirası                      None  15.000 TL - 15.999 TL   \n",
       "3  İstanbul  ₺ - Türk Lirası                      None  10.000 TL - 10.999 TL   \n",
       "4   Kocaeli  ₺ - Türk Lirası                      None    5.000 TL - 5.999 TL   \n",
       "\n",
       "   year  \n",
       "0  2022  \n",
       "1  2022  \n",
       "2  2022  \n",
       "3  2022  \n",
       "4  2022  "
      ]
     },
     "execution_count": 7,
     "metadata": {},
     "output_type": "execute_result"
    }
   ],
   "source": [
    "df22['year'] = 2022\n",
    "df22.head(5)"
   ]
  },
  {
   "cell_type": "code",
   "execution_count": 8,
   "id": "e268723f",
   "metadata": {},
   "outputs": [
    {
     "data": {
      "text/plain": [
       "(5030, 13)"
      ]
     },
     "execution_count": 8,
     "metadata": {},
     "output_type": "execute_result"
    }
   ],
   "source": [
    "df22.shape"
   ]
  },
  {
   "cell_type": "markdown",
   "id": "6b8463d3",
   "metadata": {},
   "source": [
    "## İki Verisetini Birleştirme"
   ]
  },
  {
   "cell_type": "code",
   "execution_count": 9,
   "id": "8159aef4",
   "metadata": {},
   "outputs": [],
   "source": [
    "df = pd.concat([df21,df22],ignore_index = True)"
   ]
  },
  {
   "cell_type": "code",
   "execution_count": 10,
   "id": "e626649b",
   "metadata": {},
   "outputs": [
    {
     "data": {
      "text/plain": [
       "(7666, 13)"
      ]
     },
     "execution_count": 10,
     "metadata": {},
     "output_type": "execute_result"
    }
   ],
   "source": [
    "df.shape"
   ]
  },
  {
   "cell_type": "markdown",
   "id": "05a1ebfb",
   "metadata": {},
   "source": [
    "## Veri Düzenleme"
   ]
  },
  {
   "cell_type": "code",
   "execution_count": 11,
   "id": "7ebb0f9c",
   "metadata": {},
   "outputs": [
    {
     "data": {
      "text/plain": [
       "level                        object\n",
       "position                     object\n",
       "tech_stack                   object\n",
       "experience                   object\n",
       "gender                       object\n",
       "company                      object\n",
       "company_size                 object\n",
       "work_type                    object\n",
       "city                         object\n",
       "currency                     object\n",
       "salary_for_other_currency    object\n",
       "salary_for_tl_currency       object\n",
       "year                          int64\n",
       "dtype: object"
      ]
     },
     "execution_count": 11,
     "metadata": {},
     "output_type": "execute_result"
    }
   ],
   "source": [
    "df.dtypes"
   ]
  },
  {
   "cell_type": "markdown",
   "id": "cfc11df1",
   "metadata": {},
   "source": [
    "Üzerinde sayısal işlemler yapacağımız için maaşların olduğu kolonları numeric tipine dönüştürüyoruz."
   ]
  },
  {
   "cell_type": "code",
   "execution_count": 12,
   "id": "876484e9",
   "metadata": {},
   "outputs": [
    {
     "name": "stderr",
     "output_type": "stream",
     "text": [
      "C:\\anaconda\\lib\\site-packages\\pandas\\core\\indexing.py:1732: SettingWithCopyWarning: \n",
      "A value is trying to be set on a copy of a slice from a DataFrame\n",
      "\n",
      "See the caveats in the documentation: https://pandas.pydata.org/pandas-docs/stable/user_guide/indexing.html#returning-a-view-versus-a-copy\n",
      "  self._setitem_single_block(indexer, value, name)\n"
     ]
    }
   ],
   "source": [
    "z = 0\n",
    "for i in df.salary_for_tl_currency:\n",
    "    if i is None:\n",
    "        z += 1\n",
    "        pass\n",
    "    elif len(str(i)) > 1:\n",
    "        if i[7] == \"T\":\n",
    "            df.salary_for_tl_currency.iloc[z] = (int(i[0:2])*1000)+ 500\n",
    "            z += 1\n",
    "        elif i[6] == \"T\":\n",
    "            df.salary_for_tl_currency.iloc[z] = (int(i[0])*1000)+ 500\n",
    "            z += 1\n",
    "        else:\n",
    "            z += 1\n",
    "            pass\n",
    "    else:\n",
    "        z +=1\n",
    "        pass"
   ]
  },
  {
   "cell_type": "code",
   "execution_count": 13,
   "id": "536c34b4",
   "metadata": {},
   "outputs": [
    {
     "name": "stdout",
     "output_type": "stream",
     "text": [
      "2.000 - 2.999\n",
      "\n",
      "3.000 - 3.999\n",
      "10.000 ve üzeri\n",
      "4.000 - 4.999\n",
      "5.000 - 5.999\n",
      "8.000 - 8.999\n",
      "9.000 - 9.999\n",
      "6.000 - 6.999\n",
      "7.000 - 7.999\n",
      "None\n",
      "1000 - 1.999\n"
     ]
    }
   ],
   "source": [
    "for i in df.salary_for_other_currency.unique():\n",
    "    print(i)"
   ]
  },
  {
   "cell_type": "code",
   "execution_count": 14,
   "id": "ca636c9e",
   "metadata": {},
   "outputs": [],
   "source": [
    "z = 0\n",
    "for i in df.salary_for_other_currency:\n",
    "    if i is None:\n",
    "        z += 1\n",
    "        pass\n",
    "    elif len(str(i)) > 1:\n",
    "        if i == \"1000 - 1.999\":\n",
    "            df.salary_for_other_currency.iloc[z] = 1500\n",
    "            z += 1\n",
    "        elif i[7] == \"-\" or i[7] == \"v\":\n",
    "            df.salary_for_other_currency.iloc[z] = (int(i[0:2])*1000)+ 500\n",
    "            z += 1\n",
    "        elif i[6] == \"-\":\n",
    "            df.salary_for_other_currency.iloc[z] = (int(i[0])*1000)+ 500\n",
    "            z += 1\n",
    "        else:\n",
    "            z += 1\n",
    "            pass\n",
    "    else:\n",
    "        z +=1\n",
    "        pass"
   ]
  },
  {
   "cell_type": "code",
   "execution_count": 15,
   "id": "1462c6be",
   "metadata": {},
   "outputs": [
    {
     "data": {
      "text/html": [
       "<div>\n",
       "<style scoped>\n",
       "    .dataframe tbody tr th:only-of-type {\n",
       "        vertical-align: middle;\n",
       "    }\n",
       "\n",
       "    .dataframe tbody tr th {\n",
       "        vertical-align: top;\n",
       "    }\n",
       "\n",
       "    .dataframe thead th {\n",
       "        text-align: right;\n",
       "    }\n",
       "</style>\n",
       "<table border=\"1\" class=\"dataframe\">\n",
       "  <thead>\n",
       "    <tr style=\"text-align: right;\">\n",
       "      <th></th>\n",
       "      <th>level</th>\n",
       "      <th>position</th>\n",
       "      <th>tech_stack</th>\n",
       "      <th>experience</th>\n",
       "      <th>gender</th>\n",
       "      <th>company</th>\n",
       "      <th>company_size</th>\n",
       "      <th>work_type</th>\n",
       "      <th>city</th>\n",
       "      <th>currency</th>\n",
       "      <th>salary_for_other_currency</th>\n",
       "      <th>salary_for_tl_currency</th>\n",
       "      <th>year</th>\n",
       "    </tr>\n",
       "  </thead>\n",
       "  <tbody>\n",
       "    <tr>\n",
       "      <th>0</th>\n",
       "      <td>Middle</td>\n",
       "      <td>Back-end Developer</td>\n",
       "      <td>Php</td>\n",
       "      <td>3 - 5 Yıl</td>\n",
       "      <td>Erkek</td>\n",
       "      <td>Kurumsal</td>\n",
       "      <td>50 - 100 Kişi</td>\n",
       "      <td>Remote</td>\n",
       "      <td>Yurt Dışı</td>\n",
       "      <td>€ - Euro</td>\n",
       "      <td>2500</td>\n",
       "      <td></td>\n",
       "      <td>2021</td>\n",
       "    </tr>\n",
       "    <tr>\n",
       "      <th>1</th>\n",
       "      <td>Junior</td>\n",
       "      <td>Back-end Developer</td>\n",
       "      <td>Java</td>\n",
       "      <td>1 - 3 Yıl</td>\n",
       "      <td>Erkek</td>\n",
       "      <td>Startup</td>\n",
       "      <td>100 - 250 Kişi</td>\n",
       "      <td>Pandemi Nedeniyle; Geçici Olarak Remote</td>\n",
       "      <td>İstanbul</td>\n",
       "      <td>₺ - Türk Lirası</td>\n",
       "      <td></td>\n",
       "      <td>8500</td>\n",
       "      <td>2021</td>\n",
       "    </tr>\n",
       "    <tr>\n",
       "      <th>2</th>\n",
       "      <td>Junior</td>\n",
       "      <td>Back-end Developer</td>\n",
       "      <td>.Net</td>\n",
       "      <td>1 - 3 Yıl</td>\n",
       "      <td>Erkek</td>\n",
       "      <td>E-Ticaret</td>\n",
       "      <td>250+</td>\n",
       "      <td>Ofis</td>\n",
       "      <td>İzmir</td>\n",
       "      <td>₺ - Türk Lirası</td>\n",
       "      <td></td>\n",
       "      <td>3500</td>\n",
       "      <td>2021</td>\n",
       "    </tr>\n",
       "    <tr>\n",
       "      <th>3</th>\n",
       "      <td>Junior</td>\n",
       "      <td>Front-end Developer</td>\n",
       "      <td>JavaScript | Html | Css, React</td>\n",
       "      <td>0 - 1 Yıl</td>\n",
       "      <td>Erkek</td>\n",
       "      <td>Startup</td>\n",
       "      <td>10 - 25 Kişi</td>\n",
       "      <td>Remote</td>\n",
       "      <td>Yurt Dışı</td>\n",
       "      <td>₺ - Türk Lirası</td>\n",
       "      <td></td>\n",
       "      <td>3500</td>\n",
       "      <td>2021</td>\n",
       "    </tr>\n",
       "    <tr>\n",
       "      <th>4</th>\n",
       "      <td>Middle</td>\n",
       "      <td>Front-end Developer</td>\n",
       "      <td>.Net</td>\n",
       "      <td>1 - 3 Yıl</td>\n",
       "      <td>Kadın</td>\n",
       "      <td>Kurumsal</td>\n",
       "      <td>250+</td>\n",
       "      <td>Ofis</td>\n",
       "      <td>İstanbul</td>\n",
       "      <td>₺ - Türk Lirası</td>\n",
       "      <td></td>\n",
       "      <td>9500</td>\n",
       "      <td>2021</td>\n",
       "    </tr>\n",
       "    <tr>\n",
       "      <th>5</th>\n",
       "      <td>Middle</td>\n",
       "      <td>Front-end Developer</td>\n",
       "      <td>Php, JavaScript | Html | Css, React, Vue, Reac...</td>\n",
       "      <td>3 - 5 Yıl</td>\n",
       "      <td>Erkek</td>\n",
       "      <td>Kurumsal</td>\n",
       "      <td>25 - 50 Kişi</td>\n",
       "      <td>Hibrit (Ofis + Remote)</td>\n",
       "      <td>İstanbul</td>\n",
       "      <td>₺ - Türk Lirası</td>\n",
       "      <td></td>\n",
       "      <td>6500</td>\n",
       "      <td>2021</td>\n",
       "    </tr>\n",
       "    <tr>\n",
       "      <th>6</th>\n",
       "      <td>Junior</td>\n",
       "      <td>Back-end Developer</td>\n",
       "      <td>.Net</td>\n",
       "      <td>0 - 1 Yıl</td>\n",
       "      <td>Erkek</td>\n",
       "      <td>Kurumsal</td>\n",
       "      <td>10 - 25 Kişi</td>\n",
       "      <td>Pandemi Nedeniyle; Geçici Olarak Remote</td>\n",
       "      <td>İstanbul</td>\n",
       "      <td>₺ - Türk Lirası</td>\n",
       "      <td></td>\n",
       "      <td>4500</td>\n",
       "      <td>2021</td>\n",
       "    </tr>\n",
       "    <tr>\n",
       "      <th>7</th>\n",
       "      <td>Junior</td>\n",
       "      <td>Back-end Developer</td>\n",
       "      <td>Java</td>\n",
       "      <td>1 - 3 Yıl</td>\n",
       "      <td>Erkek</td>\n",
       "      <td>E-Ticaret</td>\n",
       "      <td>100 - 250 Kişi</td>\n",
       "      <td>Pandemi Nedeniyle; Geçici Olarak Remote</td>\n",
       "      <td>İstanbul</td>\n",
       "      <td>₺ - Türk Lirası</td>\n",
       "      <td></td>\n",
       "      <td>6500</td>\n",
       "      <td>2021</td>\n",
       "    </tr>\n",
       "    <tr>\n",
       "      <th>8</th>\n",
       "      <td>Middle</td>\n",
       "      <td>Game Developer</td>\n",
       "      <td>C#</td>\n",
       "      <td>5 - 7 Yıl</td>\n",
       "      <td>Erkek</td>\n",
       "      <td>Startup</td>\n",
       "      <td>1 - 10 Kişi</td>\n",
       "      <td>Hibrit (Ofis + Remote)</td>\n",
       "      <td>İstanbul</td>\n",
       "      <td>₺ - Türk Lirası</td>\n",
       "      <td></td>\n",
       "      <td>8500</td>\n",
       "      <td>2021</td>\n",
       "    </tr>\n",
       "    <tr>\n",
       "      <th>9</th>\n",
       "      <td>Senior</td>\n",
       "      <td>Full Stack Developer</td>\n",
       "      <td>Java</td>\n",
       "      <td>7 - 10 Yıl</td>\n",
       "      <td>Erkek</td>\n",
       "      <td>Kurumsal</td>\n",
       "      <td>250+</td>\n",
       "      <td>Pandemi Nedeniyle; Geçici Olarak Remote</td>\n",
       "      <td>İstanbul</td>\n",
       "      <td>₺ - Türk Lirası</td>\n",
       "      <td></td>\n",
       "      <td>10500</td>\n",
       "      <td>2021</td>\n",
       "    </tr>\n",
       "    <tr>\n",
       "      <th>10</th>\n",
       "      <td>Junior</td>\n",
       "      <td>DevOps Engineer</td>\n",
       "      <td>Python</td>\n",
       "      <td>1 - 3 Yıl</td>\n",
       "      <td>Erkek</td>\n",
       "      <td>E-Ticaret</td>\n",
       "      <td>250+</td>\n",
       "      <td>Remote</td>\n",
       "      <td>İstanbul</td>\n",
       "      <td>₺ - Türk Lirası</td>\n",
       "      <td></td>\n",
       "      <td>9500</td>\n",
       "      <td>2021</td>\n",
       "    </tr>\n",
       "    <tr>\n",
       "      <th>11</th>\n",
       "      <td>Junior</td>\n",
       "      <td>Full Stack Developer</td>\n",
       "      <td>Java, JavaScript | Html | Css, React, Vue</td>\n",
       "      <td>0 - 1 Yıl</td>\n",
       "      <td>Erkek</td>\n",
       "      <td>Kurumsal</td>\n",
       "      <td>50 - 100 Kişi</td>\n",
       "      <td>Hibrit (Ofis + Remote)</td>\n",
       "      <td>Belcika</td>\n",
       "      <td>€ - Euro</td>\n",
       "      <td>2500</td>\n",
       "      <td></td>\n",
       "      <td>2021</td>\n",
       "    </tr>\n",
       "    <tr>\n",
       "      <th>12</th>\n",
       "      <td>Middle</td>\n",
       "      <td>Full Stack Developer</td>\n",
       "      <td>.Net</td>\n",
       "      <td>10 - 14 Yıl</td>\n",
       "      <td>Erkek</td>\n",
       "      <td>Kurumsal</td>\n",
       "      <td>1 - 10 Kişi</td>\n",
       "      <td>Hibrit (Ofis + Remote)</td>\n",
       "      <td>İstanbul</td>\n",
       "      <td>₺ - Türk Lirası</td>\n",
       "      <td></td>\n",
       "      <td>10500</td>\n",
       "      <td>2021</td>\n",
       "    </tr>\n",
       "    <tr>\n",
       "      <th>13</th>\n",
       "      <td>Middle</td>\n",
       "      <td>Back-end Developer</td>\n",
       "      <td>JavaScript | Html | Css</td>\n",
       "      <td>1 - 3 Yıl</td>\n",
       "      <td>Erkek</td>\n",
       "      <td>Kurumsal</td>\n",
       "      <td>250+</td>\n",
       "      <td>Pandemi Nedeniyle; Geçici Olarak Remote</td>\n",
       "      <td>İstanbul</td>\n",
       "      <td>₺ - Türk Lirası</td>\n",
       "      <td></td>\n",
       "      <td>9500</td>\n",
       "      <td>2021</td>\n",
       "    </tr>\n",
       "    <tr>\n",
       "      <th>14</th>\n",
       "      <td>Middle</td>\n",
       "      <td>Front-end Developer</td>\n",
       "      <td>JavaScript | Html | Css</td>\n",
       "      <td>3 - 5 Yıl</td>\n",
       "      <td>Erkek</td>\n",
       "      <td>Startup</td>\n",
       "      <td>250+</td>\n",
       "      <td>Remote</td>\n",
       "      <td>İstanbul</td>\n",
       "      <td>₺ - Türk Lirası</td>\n",
       "      <td></td>\n",
       "      <td>6500</td>\n",
       "      <td>2021</td>\n",
       "    </tr>\n",
       "    <tr>\n",
       "      <th>15</th>\n",
       "      <td>Middle</td>\n",
       "      <td>Back-end Developer</td>\n",
       "      <td>.Net, JavaScript | Html | Css</td>\n",
       "      <td>1 - 3 Yıl</td>\n",
       "      <td>Erkek</td>\n",
       "      <td>Outsource</td>\n",
       "      <td>50 - 100 Kişi</td>\n",
       "      <td>Pandemi Nedeniyle; Geçici Olarak Remote</td>\n",
       "      <td>İstanbul</td>\n",
       "      <td>₺ - Türk Lirası</td>\n",
       "      <td></td>\n",
       "      <td>3500</td>\n",
       "      <td>2021</td>\n",
       "    </tr>\n",
       "    <tr>\n",
       "      <th>16</th>\n",
       "      <td>Middle</td>\n",
       "      <td>Full Stack Developer</td>\n",
       "      <td>Php, JavaScript | Html | Css, React</td>\n",
       "      <td>3 - 5 Yıl</td>\n",
       "      <td>Erkek</td>\n",
       "      <td>Outsource</td>\n",
       "      <td>1 - 10 Kişi</td>\n",
       "      <td>Remote</td>\n",
       "      <td>Yurt Dışı</td>\n",
       "      <td>₺ - Türk Lirası</td>\n",
       "      <td></td>\n",
       "      <td>11500</td>\n",
       "      <td>2021</td>\n",
       "    </tr>\n",
       "    <tr>\n",
       "      <th>17</th>\n",
       "      <td>Senior</td>\n",
       "      <td>Full Stack Developer</td>\n",
       "      <td>.Net</td>\n",
       "      <td>7 - 10 Yıl</td>\n",
       "      <td>Erkek</td>\n",
       "      <td>Devlet</td>\n",
       "      <td>250+</td>\n",
       "      <td>Ofis</td>\n",
       "      <td>İstanbul</td>\n",
       "      <td>₺ - Türk Lirası</td>\n",
       "      <td></td>\n",
       "      <td>14500</td>\n",
       "      <td>2021</td>\n",
       "    </tr>\n",
       "    <tr>\n",
       "      <th>18</th>\n",
       "      <td>Junior</td>\n",
       "      <td>Full Stack Developer</td>\n",
       "      <td>Flutter</td>\n",
       "      <td>0 - 1 Yıl</td>\n",
       "      <td>Erkek</td>\n",
       "      <td>Startup</td>\n",
       "      <td>1 - 10 Kişi</td>\n",
       "      <td>Ofis</td>\n",
       "      <td>İstanbul</td>\n",
       "      <td>₺ - Türk Lirası</td>\n",
       "      <td></td>\n",
       "      <td>4500</td>\n",
       "      <td>2021</td>\n",
       "    </tr>\n",
       "    <tr>\n",
       "      <th>19</th>\n",
       "      <td>Senior</td>\n",
       "      <td>Back-end Developer</td>\n",
       "      <td>Php</td>\n",
       "      <td>7 - 10 Yıl</td>\n",
       "      <td>Erkek</td>\n",
       "      <td>Kurumsal</td>\n",
       "      <td>250+</td>\n",
       "      <td>Hibrit (Ofis + Remote)</td>\n",
       "      <td>Ankara</td>\n",
       "      <td>₺ - Türk Lirası</td>\n",
       "      <td></td>\n",
       "      <td>8500</td>\n",
       "      <td>2021</td>\n",
       "    </tr>\n",
       "    <tr>\n",
       "      <th>20</th>\n",
       "      <td>Senior</td>\n",
       "      <td>Full Stack Developer</td>\n",
       "      <td>.Net, JavaScript | Html | Css</td>\n",
       "      <td>5 - 7 Yıl</td>\n",
       "      <td>Erkek</td>\n",
       "      <td>Outsource</td>\n",
       "      <td>100 - 250 Kişi</td>\n",
       "      <td>Pandemi Nedeniyle; Geçici Olarak Remote</td>\n",
       "      <td>İstanbul</td>\n",
       "      <td>₺ - Türk Lirası</td>\n",
       "      <td></td>\n",
       "      <td>13500</td>\n",
       "      <td>2021</td>\n",
       "    </tr>\n",
       "    <tr>\n",
       "      <th>21</th>\n",
       "      <td>Senior</td>\n",
       "      <td>Mobile Application Developer</td>\n",
       "      <td>Java</td>\n",
       "      <td>5 - 7 Yıl</td>\n",
       "      <td>Erkek</td>\n",
       "      <td>Outsource</td>\n",
       "      <td>250+</td>\n",
       "      <td>Remote</td>\n",
       "      <td>İstanbul</td>\n",
       "      <td>₺ - Türk Lirası</td>\n",
       "      <td></td>\n",
       "      <td>10500</td>\n",
       "      <td>2021</td>\n",
       "    </tr>\n",
       "    <tr>\n",
       "      <th>22</th>\n",
       "      <td>Junior</td>\n",
       "      <td>Back-end Developer</td>\n",
       "      <td>Go</td>\n",
       "      <td>0 - 1 Yıl</td>\n",
       "      <td>Erkek</td>\n",
       "      <td>E-Ticaret</td>\n",
       "      <td>250+</td>\n",
       "      <td>Remote</td>\n",
       "      <td>İstanbul</td>\n",
       "      <td>₺ - Türk Lirası</td>\n",
       "      <td></td>\n",
       "      <td>4500</td>\n",
       "      <td>2021</td>\n",
       "    </tr>\n",
       "    <tr>\n",
       "      <th>23</th>\n",
       "      <td>Junior</td>\n",
       "      <td>Back-end Developer</td>\n",
       "      <td>Java</td>\n",
       "      <td>0 - 1 Yıl</td>\n",
       "      <td>Kadın</td>\n",
       "      <td>Kurumsal</td>\n",
       "      <td>250+</td>\n",
       "      <td>Pandemi Nedeniyle; Geçici Olarak Remote</td>\n",
       "      <td>Ankara</td>\n",
       "      <td>₺ - Türk Lirası</td>\n",
       "      <td></td>\n",
       "      <td>4500</td>\n",
       "      <td>2021</td>\n",
       "    </tr>\n",
       "    <tr>\n",
       "      <th>24</th>\n",
       "      <td>Senior</td>\n",
       "      <td>Front-end Developer</td>\n",
       "      <td>JavaScript | Html | Css, React</td>\n",
       "      <td>5 - 7 Yıl</td>\n",
       "      <td>Erkek</td>\n",
       "      <td>Startup</td>\n",
       "      <td>10 - 25 Kişi</td>\n",
       "      <td>Remote</td>\n",
       "      <td>İstanbul</td>\n",
       "      <td>₺ - Türk Lirası</td>\n",
       "      <td></td>\n",
       "      <td>10500</td>\n",
       "      <td>2021</td>\n",
       "    </tr>\n",
       "    <tr>\n",
       "      <th>25</th>\n",
       "      <td>Senior</td>\n",
       "      <td>Back-end Developer</td>\n",
       "      <td>Java</td>\n",
       "      <td>3 - 5 Yıl</td>\n",
       "      <td>Erkek</td>\n",
       "      <td>Kurumsal</td>\n",
       "      <td>250+</td>\n",
       "      <td>Pandemi Nedeniyle; Geçici Olarak Remote</td>\n",
       "      <td>İstanbul</td>\n",
       "      <td>₺ - Türk Lirası</td>\n",
       "      <td></td>\n",
       "      <td>8500</td>\n",
       "      <td>2021</td>\n",
       "    </tr>\n",
       "    <tr>\n",
       "      <th>26</th>\n",
       "      <td>Senior</td>\n",
       "      <td>Back-end Developer</td>\n",
       "      <td>Php, JavaScript | Html | Css</td>\n",
       "      <td>15 Yıl ve üzeri</td>\n",
       "      <td>Erkek</td>\n",
       "      <td>Outsource</td>\n",
       "      <td>10 - 25 Kişi</td>\n",
       "      <td>Pandemi Nedeniyle; Geçici Olarak Hibrit (Ofis ...</td>\n",
       "      <td>İzmir</td>\n",
       "      <td>₺ - Türk Lirası</td>\n",
       "      <td></td>\n",
       "      <td>8500</td>\n",
       "      <td>2021</td>\n",
       "    </tr>\n",
       "    <tr>\n",
       "      <th>27</th>\n",
       "      <td>Middle</td>\n",
       "      <td>Front-end Developer</td>\n",
       "      <td>JavaScript | Html | Css, Angular</td>\n",
       "      <td>5 - 7 Yıl</td>\n",
       "      <td>Erkek</td>\n",
       "      <td>E-Ticaret</td>\n",
       "      <td>50 - 100 Kişi</td>\n",
       "      <td>Hibrit (Ofis + Remote)</td>\n",
       "      <td>Kopenhag</td>\n",
       "      <td>€ - Euro</td>\n",
       "      <td>3500</td>\n",
       "      <td></td>\n",
       "      <td>2021</td>\n",
       "    </tr>\n",
       "    <tr>\n",
       "      <th>28</th>\n",
       "      <td>Junior</td>\n",
       "      <td>Front-end Developer</td>\n",
       "      <td>Vue</td>\n",
       "      <td>0 - 1 Yıl</td>\n",
       "      <td>Erkek</td>\n",
       "      <td>Kurumsal</td>\n",
       "      <td>100 - 250 Kişi</td>\n",
       "      <td>Pandemi Nedeniyle; Geçici Olarak Remote</td>\n",
       "      <td>İzmir</td>\n",
       "      <td>₺ - Türk Lirası</td>\n",
       "      <td></td>\n",
       "      <td>4500</td>\n",
       "      <td>2021</td>\n",
       "    </tr>\n",
       "    <tr>\n",
       "      <th>29</th>\n",
       "      <td>Senior</td>\n",
       "      <td>Back-end Developer</td>\n",
       "      <td>Java, Go, Vue, Flutter, React Native</td>\n",
       "      <td>10 - 14 Yıl</td>\n",
       "      <td>Erkek</td>\n",
       "      <td>Startup</td>\n",
       "      <td>250+</td>\n",
       "      <td>Remote</td>\n",
       "      <td>İstanbul</td>\n",
       "      <td>₺ - Türk Lirası</td>\n",
       "      <td></td>\n",
       "      <td>20500</td>\n",
       "      <td>2021</td>\n",
       "    </tr>\n",
       "  </tbody>\n",
       "</table>\n",
       "</div>"
      ],
      "text/plain": [
       "     level                      position  \\\n",
       "0   Middle            Back-end Developer   \n",
       "1   Junior            Back-end Developer   \n",
       "2   Junior            Back-end Developer   \n",
       "3   Junior           Front-end Developer   \n",
       "4   Middle           Front-end Developer   \n",
       "5   Middle           Front-end Developer   \n",
       "6   Junior            Back-end Developer   \n",
       "7   Junior            Back-end Developer   \n",
       "8   Middle                Game Developer   \n",
       "9   Senior          Full Stack Developer   \n",
       "10  Junior               DevOps Engineer   \n",
       "11  Junior          Full Stack Developer   \n",
       "12  Middle          Full Stack Developer   \n",
       "13  Middle            Back-end Developer   \n",
       "14  Middle           Front-end Developer   \n",
       "15  Middle            Back-end Developer   \n",
       "16  Middle          Full Stack Developer   \n",
       "17  Senior          Full Stack Developer   \n",
       "18  Junior          Full Stack Developer   \n",
       "19  Senior            Back-end Developer   \n",
       "20  Senior          Full Stack Developer   \n",
       "21  Senior  Mobile Application Developer   \n",
       "22  Junior            Back-end Developer   \n",
       "23  Junior            Back-end Developer   \n",
       "24  Senior           Front-end Developer   \n",
       "25  Senior            Back-end Developer   \n",
       "26  Senior            Back-end Developer   \n",
       "27  Middle           Front-end Developer   \n",
       "28  Junior           Front-end Developer   \n",
       "29  Senior            Back-end Developer   \n",
       "\n",
       "                                           tech_stack       experience gender  \\\n",
       "0                                                 Php        3 - 5 Yıl  Erkek   \n",
       "1                                                Java        1 - 3 Yıl  Erkek   \n",
       "2                                                .Net        1 - 3 Yıl  Erkek   \n",
       "3                      JavaScript | Html | Css, React        0 - 1 Yıl  Erkek   \n",
       "4                                                .Net        1 - 3 Yıl  Kadın   \n",
       "5   Php, JavaScript | Html | Css, React, Vue, Reac...        3 - 5 Yıl  Erkek   \n",
       "6                                                .Net        0 - 1 Yıl  Erkek   \n",
       "7                                                Java        1 - 3 Yıl  Erkek   \n",
       "8                                                  C#        5 - 7 Yıl  Erkek   \n",
       "9                                                Java       7 - 10 Yıl  Erkek   \n",
       "10                                             Python        1 - 3 Yıl  Erkek   \n",
       "11          Java, JavaScript | Html | Css, React, Vue        0 - 1 Yıl  Erkek   \n",
       "12                                               .Net      10 - 14 Yıl  Erkek   \n",
       "13                            JavaScript | Html | Css        1 - 3 Yıl  Erkek   \n",
       "14                            JavaScript | Html | Css        3 - 5 Yıl  Erkek   \n",
       "15                      .Net, JavaScript | Html | Css        1 - 3 Yıl  Erkek   \n",
       "16                Php, JavaScript | Html | Css, React        3 - 5 Yıl  Erkek   \n",
       "17                                               .Net       7 - 10 Yıl  Erkek   \n",
       "18                                            Flutter        0 - 1 Yıl  Erkek   \n",
       "19                                                Php       7 - 10 Yıl  Erkek   \n",
       "20                      .Net, JavaScript | Html | Css        5 - 7 Yıl  Erkek   \n",
       "21                                               Java        5 - 7 Yıl  Erkek   \n",
       "22                                                 Go        0 - 1 Yıl  Erkek   \n",
       "23                                               Java        0 - 1 Yıl  Kadın   \n",
       "24                     JavaScript | Html | Css, React        5 - 7 Yıl  Erkek   \n",
       "25                                               Java        3 - 5 Yıl  Erkek   \n",
       "26                       Php, JavaScript | Html | Css  15 Yıl ve üzeri  Erkek   \n",
       "27                   JavaScript | Html | Css, Angular        5 - 7 Yıl  Erkek   \n",
       "28                                                Vue        0 - 1 Yıl  Erkek   \n",
       "29               Java, Go, Vue, Flutter, React Native      10 - 14 Yıl  Erkek   \n",
       "\n",
       "      company    company_size  \\\n",
       "0    Kurumsal   50 - 100 Kişi   \n",
       "1     Startup  100 - 250 Kişi   \n",
       "2   E-Ticaret            250+   \n",
       "3     Startup    10 - 25 Kişi   \n",
       "4    Kurumsal            250+   \n",
       "5    Kurumsal    25 - 50 Kişi   \n",
       "6    Kurumsal    10 - 25 Kişi   \n",
       "7   E-Ticaret  100 - 250 Kişi   \n",
       "8     Startup     1 - 10 Kişi   \n",
       "9    Kurumsal            250+   \n",
       "10  E-Ticaret            250+   \n",
       "11   Kurumsal   50 - 100 Kişi   \n",
       "12   Kurumsal     1 - 10 Kişi   \n",
       "13   Kurumsal            250+   \n",
       "14    Startup            250+   \n",
       "15  Outsource   50 - 100 Kişi   \n",
       "16  Outsource     1 - 10 Kişi   \n",
       "17     Devlet            250+   \n",
       "18    Startup     1 - 10 Kişi   \n",
       "19   Kurumsal            250+   \n",
       "20  Outsource  100 - 250 Kişi   \n",
       "21  Outsource            250+   \n",
       "22  E-Ticaret            250+   \n",
       "23   Kurumsal            250+   \n",
       "24    Startup    10 - 25 Kişi   \n",
       "25   Kurumsal            250+   \n",
       "26  Outsource    10 - 25 Kişi   \n",
       "27  E-Ticaret   50 - 100 Kişi   \n",
       "28   Kurumsal  100 - 250 Kişi   \n",
       "29    Startup            250+   \n",
       "\n",
       "                                            work_type       city  \\\n",
       "0                                              Remote  Yurt Dışı   \n",
       "1             Pandemi Nedeniyle; Geçici Olarak Remote   İstanbul   \n",
       "2                                                Ofis      İzmir   \n",
       "3                                              Remote  Yurt Dışı   \n",
       "4                                                Ofis   İstanbul   \n",
       "5                              Hibrit (Ofis + Remote)   İstanbul   \n",
       "6             Pandemi Nedeniyle; Geçici Olarak Remote   İstanbul   \n",
       "7             Pandemi Nedeniyle; Geçici Olarak Remote   İstanbul   \n",
       "8                              Hibrit (Ofis + Remote)   İstanbul   \n",
       "9             Pandemi Nedeniyle; Geçici Olarak Remote   İstanbul   \n",
       "10                                             Remote   İstanbul   \n",
       "11                             Hibrit (Ofis + Remote)    Belcika   \n",
       "12                             Hibrit (Ofis + Remote)   İstanbul   \n",
       "13            Pandemi Nedeniyle; Geçici Olarak Remote   İstanbul   \n",
       "14                                             Remote   İstanbul   \n",
       "15            Pandemi Nedeniyle; Geçici Olarak Remote   İstanbul   \n",
       "16                                             Remote  Yurt Dışı   \n",
       "17                                               Ofis   İstanbul   \n",
       "18                                               Ofis   İstanbul   \n",
       "19                             Hibrit (Ofis + Remote)     Ankara   \n",
       "20            Pandemi Nedeniyle; Geçici Olarak Remote   İstanbul   \n",
       "21                                             Remote   İstanbul   \n",
       "22                                             Remote   İstanbul   \n",
       "23            Pandemi Nedeniyle; Geçici Olarak Remote     Ankara   \n",
       "24                                             Remote   İstanbul   \n",
       "25            Pandemi Nedeniyle; Geçici Olarak Remote   İstanbul   \n",
       "26  Pandemi Nedeniyle; Geçici Olarak Hibrit (Ofis ...      İzmir   \n",
       "27                             Hibrit (Ofis + Remote)   Kopenhag   \n",
       "28            Pandemi Nedeniyle; Geçici Olarak Remote      İzmir   \n",
       "29                                             Remote   İstanbul   \n",
       "\n",
       "           currency salary_for_other_currency salary_for_tl_currency  year  \n",
       "0          € - Euro                      2500                         2021  \n",
       "1   ₺ - Türk Lirası                                             8500  2021  \n",
       "2   ₺ - Türk Lirası                                             3500  2021  \n",
       "3   ₺ - Türk Lirası                                             3500  2021  \n",
       "4   ₺ - Türk Lirası                                             9500  2021  \n",
       "5   ₺ - Türk Lirası                                             6500  2021  \n",
       "6   ₺ - Türk Lirası                                             4500  2021  \n",
       "7   ₺ - Türk Lirası                                             6500  2021  \n",
       "8   ₺ - Türk Lirası                                             8500  2021  \n",
       "9   ₺ - Türk Lirası                                            10500  2021  \n",
       "10  ₺ - Türk Lirası                                             9500  2021  \n",
       "11         € - Euro                      2500                         2021  \n",
       "12  ₺ - Türk Lirası                                            10500  2021  \n",
       "13  ₺ - Türk Lirası                                             9500  2021  \n",
       "14  ₺ - Türk Lirası                                             6500  2021  \n",
       "15  ₺ - Türk Lirası                                             3500  2021  \n",
       "16  ₺ - Türk Lirası                                            11500  2021  \n",
       "17  ₺ - Türk Lirası                                            14500  2021  \n",
       "18  ₺ - Türk Lirası                                             4500  2021  \n",
       "19  ₺ - Türk Lirası                                             8500  2021  \n",
       "20  ₺ - Türk Lirası                                            13500  2021  \n",
       "21  ₺ - Türk Lirası                                            10500  2021  \n",
       "22  ₺ - Türk Lirası                                             4500  2021  \n",
       "23  ₺ - Türk Lirası                                             4500  2021  \n",
       "24  ₺ - Türk Lirası                                            10500  2021  \n",
       "25  ₺ - Türk Lirası                                             8500  2021  \n",
       "26  ₺ - Türk Lirası                                             8500  2021  \n",
       "27         € - Euro                      3500                         2021  \n",
       "28  ₺ - Türk Lirası                                             4500  2021  \n",
       "29  ₺ - Türk Lirası                                            20500  2021  "
      ]
     },
     "execution_count": 15,
     "metadata": {},
     "output_type": "execute_result"
    }
   ],
   "source": [
    "df.head(30)"
   ]
  },
  {
   "cell_type": "code",
   "execution_count": 16,
   "id": "ced53a2b",
   "metadata": {},
   "outputs": [
    {
     "data": {
      "text/plain": [
       "3169"
      ]
     },
     "execution_count": 16,
     "metadata": {},
     "output_type": "execute_result"
    }
   ],
   "source": [
    "df[df.columns[10]].count() # diğer parabirimleri için dolu satırların sayısı"
   ]
  },
  {
   "cell_type": "code",
   "execution_count": 17,
   "id": "7e0e6923",
   "metadata": {},
   "outputs": [
    {
     "data": {
      "text/plain": [
       "0           NaN\n",
       "1        8500.0\n",
       "2        3500.0\n",
       "3        3500.0\n",
       "4        9500.0\n",
       "         ...   \n",
       "7661     8500.0\n",
       "7662    10500.0\n",
       "7663     8500.0\n",
       "7664    25500.0\n",
       "7665    11500.0\n",
       "Name: salary_for_tl_currency, Length: 7666, dtype: float64"
      ]
     },
     "execution_count": 17,
     "metadata": {},
     "output_type": "execute_result"
    }
   ],
   "source": [
    "pd.to_numeric(df[\"salary_for_tl_currency\"])"
   ]
  },
  {
   "cell_type": "code",
   "execution_count": 18,
   "id": "e44343cb",
   "metadata": {},
   "outputs": [
    {
     "data": {
      "text/plain": [
       "0       2500.0\n",
       "1          NaN\n",
       "2          NaN\n",
       "3          NaN\n",
       "4          NaN\n",
       "         ...  \n",
       "7661       NaN\n",
       "7662       NaN\n",
       "7663       NaN\n",
       "7664       NaN\n",
       "7665       NaN\n",
       "Name: salary_for_other_currency, Length: 7666, dtype: float64"
      ]
     },
     "execution_count": 18,
     "metadata": {},
     "output_type": "execute_result"
    }
   ],
   "source": [
    "pd.to_numeric(df[\"salary_for_other_currency\"])"
   ]
  },
  {
   "cell_type": "markdown",
   "id": "ff6ff7cc",
   "metadata": {},
   "source": [
    "## Veri Bize Ne Söylüyor ?\n",
    "\n",
    "Veriseti, görüldüğü üzere şirketlerin bilişim departmanında bulunan yazılımcılarının özelliklerinden, bilgilerinden oluşmaktadır.\n",
    "\n",
    "Bilgiler ışığında birden fazla analiz gerçekleştirebiliriz. \n",
    "\n",
    "Bunlardan bazıları;\n",
    "\n",
    "    \"Seviyeye göre verilen maaşlar\",\n",
    "    \"İlgilenilen dile göre verilen maaşlar\",\n",
    "    \"Deneyime göre verilen maaşlar\",\n",
    "    \"Cinsiyete göre maaşlar\",\n",
    "    \"Şirket büyüklüğüne göre değişen maaşlar\",\n",
    "    \"Yıla göre değişen maaşlar\",\n",
    "    \"Seviyeye göre tecrübe süresi\",\n",
    "    \"Cinsiyete göre çalışma tipi\",\n",
    "    \"Şirket tipine göre şirket büyüklüğü\" \n",
    "\n",
    "\n",
    "Bu veri bize yazılımla ilgilenen ve bundan para kazanan insanlarla ilgili bilgiler sunarak yazılımla ilgilenen insanların toplumdaki yerlerini, yaşam standartlarını, çalışma koşullarını ve ilgi alanlarındaki spesifik teknolojileri bizlere sunarak, ilgili toplum ve sektör hakkında ışık tutar.\n",
    "\n",
    "Biz de ilk olarak bu veriyi ilgili alanlarda kullanmak amacıyla bazı ana başlıklara böleceğiz ve analiz edeceğiz. "
   ]
  },
  {
   "cell_type": "markdown",
   "id": "57a9c764",
   "metadata": {},
   "source": [
    "## TL ve Diğer Parabirimleri"
   ]
  },
  {
   "cell_type": "markdown",
   "id": "da721659",
   "metadata": {},
   "source": [
    "Maaşını döviz alanların ve Tl alanların para olarak değeri aynı olmadığı için analizi ayrı değerlendiriyoruz. Öncelikle Türk Lirası kazanan yazılımcıları ayrı bir verisetine aktarıyoruz."
   ]
  },
  {
   "cell_type": "code",
   "execution_count": 19,
   "id": "20677e84",
   "metadata": {},
   "outputs": [],
   "source": [
    "df_tl = df.copy()"
   ]
  },
  {
   "cell_type": "code",
   "execution_count": 20,
   "id": "eb7c92a1",
   "metadata": {},
   "outputs": [],
   "source": [
    "df_tl[\"salary_for_tl_currency\"].dropna(inplace = True)"
   ]
  },
  {
   "cell_type": "markdown",
   "id": "9bd9eb3b",
   "metadata": {},
   "source": [
    "Verisetimizde Türk Lirası kazananları ayıracağımız için 'salary_for_tl_currency' kolonunda boş olan satırları, ayrıca 'salary_for_other_currency' kolonunu siliyoruz."
   ]
  },
  {
   "cell_type": "code",
   "execution_count": 21,
   "id": "b670d901",
   "metadata": {},
   "outputs": [],
   "source": [
    "indexes = []\n",
    "for i in range(0,len(df_tl)):\n",
    "    if type(df_tl[\"salary_for_tl_currency\"][i]) == str:\n",
    "        indexes.append(i)\n",
    "df_tl = df_tl.drop(indexes, axis = 0)"
   ]
  },
  {
   "cell_type": "code",
   "execution_count": 22,
   "id": "b71bccb9",
   "metadata": {},
   "outputs": [],
   "source": [
    "df_tl.reset_index(inplace = True)"
   ]
  },
  {
   "cell_type": "code",
   "execution_count": 23,
   "id": "4bfb73a9",
   "metadata": {},
   "outputs": [
    {
     "data": {
      "text/html": [
       "<div>\n",
       "<style scoped>\n",
       "    .dataframe tbody tr th:only-of-type {\n",
       "        vertical-align: middle;\n",
       "    }\n",
       "\n",
       "    .dataframe tbody tr th {\n",
       "        vertical-align: top;\n",
       "    }\n",
       "\n",
       "    .dataframe thead th {\n",
       "        text-align: right;\n",
       "    }\n",
       "</style>\n",
       "<table border=\"1\" class=\"dataframe\">\n",
       "  <thead>\n",
       "    <tr style=\"text-align: right;\">\n",
       "      <th></th>\n",
       "      <th>index</th>\n",
       "      <th>level</th>\n",
       "      <th>position</th>\n",
       "      <th>tech_stack</th>\n",
       "      <th>experience</th>\n",
       "      <th>gender</th>\n",
       "      <th>company</th>\n",
       "      <th>company_size</th>\n",
       "      <th>work_type</th>\n",
       "      <th>city</th>\n",
       "      <th>currency</th>\n",
       "      <th>salary_for_other_currency</th>\n",
       "      <th>salary_for_tl_currency</th>\n",
       "      <th>year</th>\n",
       "    </tr>\n",
       "  </thead>\n",
       "  <tbody>\n",
       "    <tr>\n",
       "      <th>0</th>\n",
       "      <td>1</td>\n",
       "      <td>Junior</td>\n",
       "      <td>Back-end Developer</td>\n",
       "      <td>Java</td>\n",
       "      <td>1 - 3 Yıl</td>\n",
       "      <td>Erkek</td>\n",
       "      <td>Startup</td>\n",
       "      <td>100 - 250 Kişi</td>\n",
       "      <td>Pandemi Nedeniyle; Geçici Olarak Remote</td>\n",
       "      <td>İstanbul</td>\n",
       "      <td>₺ - Türk Lirası</td>\n",
       "      <td></td>\n",
       "      <td>8500</td>\n",
       "      <td>2021</td>\n",
       "    </tr>\n",
       "    <tr>\n",
       "      <th>1</th>\n",
       "      <td>2</td>\n",
       "      <td>Junior</td>\n",
       "      <td>Back-end Developer</td>\n",
       "      <td>.Net</td>\n",
       "      <td>1 - 3 Yıl</td>\n",
       "      <td>Erkek</td>\n",
       "      <td>E-Ticaret</td>\n",
       "      <td>250+</td>\n",
       "      <td>Ofis</td>\n",
       "      <td>İzmir</td>\n",
       "      <td>₺ - Türk Lirası</td>\n",
       "      <td></td>\n",
       "      <td>3500</td>\n",
       "      <td>2021</td>\n",
       "    </tr>\n",
       "    <tr>\n",
       "      <th>2</th>\n",
       "      <td>3</td>\n",
       "      <td>Junior</td>\n",
       "      <td>Front-end Developer</td>\n",
       "      <td>JavaScript | Html | Css, React</td>\n",
       "      <td>0 - 1 Yıl</td>\n",
       "      <td>Erkek</td>\n",
       "      <td>Startup</td>\n",
       "      <td>10 - 25 Kişi</td>\n",
       "      <td>Remote</td>\n",
       "      <td>Yurt Dışı</td>\n",
       "      <td>₺ - Türk Lirası</td>\n",
       "      <td></td>\n",
       "      <td>3500</td>\n",
       "      <td>2021</td>\n",
       "    </tr>\n",
       "    <tr>\n",
       "      <th>3</th>\n",
       "      <td>4</td>\n",
       "      <td>Middle</td>\n",
       "      <td>Front-end Developer</td>\n",
       "      <td>.Net</td>\n",
       "      <td>1 - 3 Yıl</td>\n",
       "      <td>Kadın</td>\n",
       "      <td>Kurumsal</td>\n",
       "      <td>250+</td>\n",
       "      <td>Ofis</td>\n",
       "      <td>İstanbul</td>\n",
       "      <td>₺ - Türk Lirası</td>\n",
       "      <td></td>\n",
       "      <td>9500</td>\n",
       "      <td>2021</td>\n",
       "    </tr>\n",
       "  </tbody>\n",
       "</table>\n",
       "</div>"
      ],
      "text/plain": [
       "   index   level             position                      tech_stack  \\\n",
       "0      1  Junior   Back-end Developer                            Java   \n",
       "1      2  Junior   Back-end Developer                            .Net   \n",
       "2      3  Junior  Front-end Developer  JavaScript | Html | Css, React   \n",
       "3      4  Middle  Front-end Developer                            .Net   \n",
       "\n",
       "  experience gender    company    company_size  \\\n",
       "0  1 - 3 Yıl  Erkek    Startup  100 - 250 Kişi   \n",
       "1  1 - 3 Yıl  Erkek  E-Ticaret            250+   \n",
       "2  0 - 1 Yıl  Erkek    Startup    10 - 25 Kişi   \n",
       "3  1 - 3 Yıl  Kadın   Kurumsal            250+   \n",
       "\n",
       "                                 work_type       city         currency  \\\n",
       "0  Pandemi Nedeniyle; Geçici Olarak Remote   İstanbul  ₺ - Türk Lirası   \n",
       "1                                     Ofis      İzmir  ₺ - Türk Lirası   \n",
       "2                                   Remote  Yurt Dışı  ₺ - Türk Lirası   \n",
       "3                                     Ofis   İstanbul  ₺ - Türk Lirası   \n",
       "\n",
       "  salary_for_other_currency salary_for_tl_currency  year  \n",
       "0                                             8500  2021  \n",
       "1                                             3500  2021  \n",
       "2                                             3500  2021  \n",
       "3                                             9500  2021  "
      ]
     },
     "execution_count": 23,
     "metadata": {},
     "output_type": "execute_result"
    }
   ],
   "source": [
    "df_tl.head(4)"
   ]
  },
  {
   "cell_type": "markdown",
   "id": "a93b4f37",
   "metadata": {},
   "source": [
    "Şimdi de diğer para birimleri ile kazananları ayrı bir verisetine aktaralım.."
   ]
  },
  {
   "cell_type": "code",
   "execution_count": 24,
   "id": "577769f1",
   "metadata": {},
   "outputs": [
    {
     "data": {
      "text/html": [
       "<div>\n",
       "<style scoped>\n",
       "    .dataframe tbody tr th:only-of-type {\n",
       "        vertical-align: middle;\n",
       "    }\n",
       "\n",
       "    .dataframe tbody tr th {\n",
       "        vertical-align: top;\n",
       "    }\n",
       "\n",
       "    .dataframe thead th {\n",
       "        text-align: right;\n",
       "    }\n",
       "</style>\n",
       "<table border=\"1\" class=\"dataframe\">\n",
       "  <thead>\n",
       "    <tr style=\"text-align: right;\">\n",
       "      <th></th>\n",
       "      <th>level_0</th>\n",
       "      <th>index</th>\n",
       "      <th>level</th>\n",
       "      <th>position</th>\n",
       "      <th>tech_stack</th>\n",
       "      <th>experience</th>\n",
       "      <th>gender</th>\n",
       "      <th>company</th>\n",
       "      <th>company_size</th>\n",
       "      <th>work_type</th>\n",
       "      <th>city</th>\n",
       "      <th>currency</th>\n",
       "      <th>salary_for_other_currency</th>\n",
       "      <th>year</th>\n",
       "    </tr>\n",
       "  </thead>\n",
       "  <tbody>\n",
       "    <tr>\n",
       "      <th>0</th>\n",
       "      <td>0</td>\n",
       "      <td>0</td>\n",
       "      <td>Middle</td>\n",
       "      <td>Back-end Developer</td>\n",
       "      <td>Php</td>\n",
       "      <td>3 - 5 Yıl</td>\n",
       "      <td>Erkek</td>\n",
       "      <td>Kurumsal</td>\n",
       "      <td>50 - 100 Kişi</td>\n",
       "      <td>Remote</td>\n",
       "      <td>Yurt Dışı</td>\n",
       "      <td>€ - Euro</td>\n",
       "      <td>2500</td>\n",
       "      <td>2021</td>\n",
       "    </tr>\n",
       "    <tr>\n",
       "      <th>1</th>\n",
       "      <td>1</td>\n",
       "      <td>11</td>\n",
       "      <td>Junior</td>\n",
       "      <td>Full Stack Developer</td>\n",
       "      <td>Java, JavaScript | Html | Css, React, Vue</td>\n",
       "      <td>0 - 1 Yıl</td>\n",
       "      <td>Erkek</td>\n",
       "      <td>Kurumsal</td>\n",
       "      <td>50 - 100 Kişi</td>\n",
       "      <td>Hibrit (Ofis + Remote)</td>\n",
       "      <td>Belcika</td>\n",
       "      <td>€ - Euro</td>\n",
       "      <td>2500</td>\n",
       "      <td>2021</td>\n",
       "    </tr>\n",
       "    <tr>\n",
       "      <th>2</th>\n",
       "      <td>2</td>\n",
       "      <td>27</td>\n",
       "      <td>Middle</td>\n",
       "      <td>Front-end Developer</td>\n",
       "      <td>JavaScript | Html | Css, Angular</td>\n",
       "      <td>5 - 7 Yıl</td>\n",
       "      <td>Erkek</td>\n",
       "      <td>E-Ticaret</td>\n",
       "      <td>50 - 100 Kişi</td>\n",
       "      <td>Hibrit (Ofis + Remote)</td>\n",
       "      <td>Kopenhag</td>\n",
       "      <td>€ - Euro</td>\n",
       "      <td>3500</td>\n",
       "      <td>2021</td>\n",
       "    </tr>\n",
       "    <tr>\n",
       "      <th>3</th>\n",
       "      <td>3</td>\n",
       "      <td>34</td>\n",
       "      <td>Senior</td>\n",
       "      <td>Front-end Developer</td>\n",
       "      <td>React</td>\n",
       "      <td>5 - 7 Yıl</td>\n",
       "      <td>Erkek</td>\n",
       "      <td>E-Ticaret</td>\n",
       "      <td>250+</td>\n",
       "      <td>Hibrit (Ofis + Remote)</td>\n",
       "      <td>Dubai</td>\n",
       "      <td>$ - Dolar</td>\n",
       "      <td>10500</td>\n",
       "      <td>2021</td>\n",
       "    </tr>\n",
       "    <tr>\n",
       "      <th>4</th>\n",
       "      <td>4</td>\n",
       "      <td>37</td>\n",
       "      <td>Junior</td>\n",
       "      <td>Mobile Application Developer</td>\n",
       "      <td>Kotlin</td>\n",
       "      <td>0 - 1 Yıl</td>\n",
       "      <td>Erkek</td>\n",
       "      <td>SaaS sağlayıcı</td>\n",
       "      <td>50 - 100 Kişi</td>\n",
       "      <td>Ofis</td>\n",
       "      <td>Ankara</td>\n",
       "      <td>$ - Dolar</td>\n",
       "      <td>4500</td>\n",
       "      <td>2021</td>\n",
       "    </tr>\n",
       "  </tbody>\n",
       "</table>\n",
       "</div>"
      ],
      "text/plain": [
       "   level_0  index   level                      position  \\\n",
       "0        0      0  Middle            Back-end Developer   \n",
       "1        1     11  Junior          Full Stack Developer   \n",
       "2        2     27  Middle           Front-end Developer   \n",
       "3        3     34  Senior           Front-end Developer   \n",
       "4        4     37  Junior  Mobile Application Developer   \n",
       "\n",
       "                                  tech_stack experience gender  \\\n",
       "0                                        Php  3 - 5 Yıl  Erkek   \n",
       "1  Java, JavaScript | Html | Css, React, Vue  0 - 1 Yıl  Erkek   \n",
       "2           JavaScript | Html | Css, Angular  5 - 7 Yıl  Erkek   \n",
       "3                                      React  5 - 7 Yıl  Erkek   \n",
       "4                                     Kotlin  0 - 1 Yıl  Erkek   \n",
       "\n",
       "          company   company_size               work_type       city  \\\n",
       "0        Kurumsal  50 - 100 Kişi                  Remote  Yurt Dışı   \n",
       "1        Kurumsal  50 - 100 Kişi  Hibrit (Ofis + Remote)    Belcika   \n",
       "2       E-Ticaret  50 - 100 Kişi  Hibrit (Ofis + Remote)   Kopenhag   \n",
       "3       E-Ticaret           250+  Hibrit (Ofis + Remote)      Dubai   \n",
       "4  SaaS sağlayıcı  50 - 100 Kişi                    Ofis     Ankara   \n",
       "\n",
       "    currency salary_for_other_currency  year  \n",
       "0   € - Euro                      2500  2021  \n",
       "1   € - Euro                      2500  2021  \n",
       "2   € - Euro                      3500  2021  \n",
       "3  $ - Dolar                     10500  2021  \n",
       "4  $ - Dolar                      4500  2021  "
      ]
     },
     "execution_count": 24,
     "metadata": {},
     "output_type": "execute_result"
    }
   ],
   "source": [
    "df_other = df.copy()\n",
    "indexes2 = []\n",
    "for i in range(0,len(df_other)):\n",
    "    if df_other.currency.iloc[i] == \"₺ - Türk Lirası\":\n",
    "        indexes2.append(i)\n",
    "df_other = df_other.drop(indexes2, axis = 0)\n",
    "df_other.reset_index(inplace = True)\n",
    "df_other = df_other.drop(\"salary_for_tl_currency\", axis = 1)\n",
    "df_other.reset_index(inplace = True)\n",
    "df_other.head(5)"
   ]
  },
  {
   "cell_type": "markdown",
   "id": "b96e3046",
   "metadata": {},
   "source": [
    "### Kur karşılaştırması    Dolar-Euro-Sterlin /TL"
   ]
  },
  {
   "cell_type": "code",
   "execution_count": 25,
   "id": "ff66586c",
   "metadata": {},
   "outputs": [
    {
     "data": {
      "text/plain": [
       "array(['€ - Euro', '₺ - Türk Lirası', '$ - Dolar', '£ - Sterlin'],\n",
       "      dtype=object)"
      ]
     },
     "execution_count": 25,
     "metadata": {},
     "output_type": "execute_result"
    }
   ],
   "source": [
    "df.currency.unique()"
   ]
  },
  {
   "cell_type": "markdown",
   "id": "f1bdd7f1",
   "metadata": {},
   "source": [
    "Görüldüğü üzere çalışanların genel verisetimizde 4 farklı parabiriminden biri ile maaşlarını aldıkları görülmektedir."
   ]
  },
  {
   "cell_type": "markdown",
   "id": "2319036c",
   "metadata": {},
   "source": [
    "Ayrıca çalışmanın ilerisinde, Türkiye'de Döviz ile maaş alanların kazançlarını TL karşılığı ile analiz etmek için, Bloomberght'den güncel \"Döviz/TL\" değeri çeken fonksiyon oluşturulmuştur.  "
   ]
  },
  {
   "cell_type": "code",
   "execution_count": 30,
   "id": "5264f891",
   "metadata": {},
   "outputs": [],
   "source": [
    "from selenium import webdriver\n",
    "from selenium.webdriver.common.by import By\n",
    "ayarlar = webdriver.ChromeOptions()\n",
    "ayarlar.headless = True\n",
    "driver = webdriver.Chrome(options=ayarlar)\n",
    "\n",
    "def dolar():\n",
    "    driver.get(\"https://www.bloomberght.com/doviz/dolar\")\n",
    "    try:\n",
    "        return driver.find_element(By.CLASS_NAME , \"LastPrice.upGreen\").text\n",
    "    except:\n",
    "        return driver.find_element(By.CLASS_NAME , \"LastPrice.downRed\").text\n",
    "\n",
    "def euro():\n",
    "    driver.get(\"https://www.bloomberght.com/doviz/euro\")\n",
    "    try:\n",
    "        return driver.find_element(By.CLASS_NAME , \"LastPrice.upGreen\").text\n",
    "    except:\n",
    "        return driver.find_element(By.CLASS_NAME , \"LastPrice.downRed\").text\n",
    "\n",
    "def sterlin():\n",
    "    driver.get(\"https://www.bloomberght.com/doviz/ingiliz-sterlini\")\n",
    "    try:\n",
    "        return driver.find_element(By.CLASS_NAME , \"LastPrice.upGreen\").text\n",
    "    except:\n",
    "        return driver.find_element(By.CLASS_NAME , \"LastPrice.downRed\").text\n",
    "dolar = dolar()\n",
    "euro = euro()\n",
    "sterlin = sterlin()"
   ]
  },
  {
   "cell_type": "code",
   "execution_count": 31,
   "id": "5957a3cf",
   "metadata": {},
   "outputs": [
    {
     "data": {
      "text/plain": [
       "'20,2757'"
      ]
     },
     "execution_count": 31,
     "metadata": {},
     "output_type": "execute_result"
    }
   ],
   "source": [
    "sterlin"
   ]
  },
  {
   "cell_type": "markdown",
   "id": "6bcc9709",
   "metadata": {},
   "source": [
    "İnternetten çekilen değerlerin ondalık birimi \",\" olduğundan değiştirilir."
   ]
  },
  {
   "cell_type": "code",
   "execution_count": 32,
   "id": "9308e771",
   "metadata": {},
   "outputs": [],
   "source": [
    "dolar = dolar.replace(\",\",\".\")\n",
    "euro = euro.replace(\",\",\".\")\n",
    "sterlin = sterlin.replace(\",\",\".\")"
   ]
  },
  {
   "cell_type": "code",
   "execution_count": 33,
   "id": "4a723da5",
   "metadata": {},
   "outputs": [],
   "source": [
    "dolar = float(dolar)\n",
    "euro = float(euro)\n",
    "sterlin = float(sterlin)"
   ]
  },
  {
   "cell_type": "markdown",
   "id": "11803bf2",
   "metadata": {},
   "source": [
    "### Analiz 1 - Seviyeye göre tecrübe"
   ]
  },
  {
   "cell_type": "code",
   "execution_count": 34,
   "id": "917a8fe6",
   "metadata": {},
   "outputs": [
    {
     "data": {
      "text/plain": [
       "array(['Junior', 'Middle', 'Senior'], dtype=object)"
      ]
     },
     "execution_count": 34,
     "metadata": {},
     "output_type": "execute_result"
    }
   ],
   "source": [
    "df_tl.level.unique() "
   ]
  },
  {
   "cell_type": "code",
   "execution_count": 35,
   "id": "d54f70cb",
   "metadata": {},
   "outputs": [],
   "source": [
    "dfg = df_tl.groupby('level')['experience'].value_counts()\n",
    "dfg2 = df_tl.groupby('experience')['level'].value_counts()"
   ]
  },
  {
   "cell_type": "code",
   "execution_count": 36,
   "id": "3fc6aa4f",
   "metadata": {},
   "outputs": [],
   "source": [
    "import matplotlib.pyplot as plt"
   ]
  },
  {
   "cell_type": "code",
   "execution_count": 37,
   "id": "04a73eb3",
   "metadata": {},
   "outputs": [
    {
     "data": {
      "text/plain": [
       "level   experience     \n",
       "Junior  0 - 1 Yıl          1040\n",
       "        1 - 3 Yıl           812\n",
       "        3 - 5 Yıl            40\n",
       "        7 - 10 Yıl           10\n",
       "        5 - 7 Yıl             7\n",
       "        15 Yıl ve üzeri       2\n",
       "        10 - 14 Yıl           1\n",
       "Middle  1 - 3 Yıl           980\n",
       "        3 - 5 Yıl           950\n",
       "        5 - 7 Yıl           286\n",
       "        7 - 10 Yıl          116\n",
       "        0 - 1 Yıl            45\n",
       "        10 - 14 Yıl          30\n",
       "        15 Yıl ve üzeri      13\n",
       "Senior  7 - 10 Yıl          818\n",
       "        10 - 14 Yıl         806\n",
       "        5 - 7 Yıl           653\n",
       "        15 Yıl ve üzeri     458\n",
       "        3 - 5 Yıl           324\n",
       "        1 - 3 Yıl            43\n",
       "        0 - 1 Yıl             5\n",
       "Name: experience, dtype: int64"
      ]
     },
     "execution_count": 37,
     "metadata": {},
     "output_type": "execute_result"
    }
   ],
   "source": [
    "dfg"
   ]
  },
  {
   "cell_type": "code",
   "execution_count": 38,
   "id": "e6b69d6a",
   "metadata": {},
   "outputs": [
    {
     "data": {
      "text/plain": [
       "<AxesSubplot:xlabel='experience'>"
      ]
     },
     "execution_count": 38,
     "metadata": {},
     "output_type": "execute_result"
    },
    {
     "data": {
      "image/png": "[encoded data removed]",
      "text/plain": [
       "<Figure size 432x288 with 1 Axes>"
      ]
     },
     "metadata": {
      "needs_background": "light"
     },
     "output_type": "display_data"
    }
   ],
   "source": [
    "dfg = dfg.sort_index(level='experience', sort_remaining=False)\n",
    "dfg.unstack(0).plot.bar()"
   ]
  },
  {
   "cell_type": "markdown",
   "id": "a33d1f1b",
   "metadata": {},
   "source": [
    "Ünvanlara göre çalışanların alandaki deneyimleri gösterilmiştir. 0-3 yıl aralığında Junior developerlar daha fazla iken 5 yıldan fazla deneyimi olanların fazlaca Senior ünvanına sahip olduğu görülmektedir. "
   ]
  },
  {
   "cell_type": "markdown",
   "id": "7246e4a1",
   "metadata": {},
   "source": [
    "### Analiz 2 - Cinsiyete ve Ünvana göre Dağılım"
   ]
  },
  {
   "cell_type": "code",
   "execution_count": 39,
   "id": "88f6f68d",
   "metadata": {},
   "outputs": [
    {
     "data": {
      "text/plain": [
       "<AxesSubplot:xlabel='gender'>"
      ]
     },
     "execution_count": 39,
     "metadata": {},
     "output_type": "execute_result"
    },
    {
     "data": {
      "image/png": "[encoded data removed]",
      "text/plain": [
       "<Figure size 432x288 with 1 Axes>"
      ]
     },
     "metadata": {
      "needs_background": "light"
     },
     "output_type": "display_data"
    }
   ],
   "source": [
    "dfgender = df_tl.groupby('level')['gender'].value_counts()\n",
    "dfgender = dfgender.sort_index(level='gender', sort_remaining=False)\n",
    "dfgender.unstack(0).plot.bar()"
   ]
  },
  {
   "cell_type": "markdown",
   "id": "5d80790e",
   "metadata": {},
   "source": [
    "### Analiz 3 - Seviyeye göre maaş (TL)"
   ]
  },
  {
   "cell_type": "code",
   "execution_count": 40,
   "id": "f8eea91a",
   "metadata": {},
   "outputs": [
    {
     "data": {
      "text/plain": [
       "level\n",
       "Junior    1912\n",
       "Middle    2420\n",
       "Senior    3107\n",
       "Name: index, dtype: int64"
      ]
     },
     "execution_count": 40,
     "metadata": {},
     "output_type": "execute_result"
    }
   ],
   "source": [
    "df_tl.groupby('level')[\"index\"].count()"
   ]
  },
  {
   "cell_type": "code",
   "execution_count": 41,
   "id": "d7893306",
   "metadata": {},
   "outputs": [],
   "source": [
    "lev1 = df_tl.groupby('level')['salary_for_tl_currency'].mean()"
   ]
  },
  {
   "cell_type": "code",
   "execution_count": 42,
   "id": "994dad8c",
   "metadata": {},
   "outputs": [
    {
     "data": {
      "text/plain": [
       "[Text(0, 0, '8083.92'), Text(0, 0, '12344.9'), Text(0, 0, '20143.5')]"
      ]
     },
     "execution_count": 42,
     "metadata": {},
     "output_type": "execute_result"
    },
    {
     "data": {
      "image/png": "[encoded data removed]",
      "text/plain": [
       "<Figure size 432x288 with 1 Axes>"
      ]
     },
     "metadata": {},
     "output_type": "display_data"
    }
   ],
   "source": [
    "plt.style.use(\"fivethirtyeight\")\n",
    "ax = lev1.plot.bar(ylabel = \"salary (TL)\")\n",
    "ax.bar_label(ax.containers[0], label_type='edge')\n"
   ]
  },
  {
   "cell_type": "markdown",
   "id": "b0b5c582",
   "metadata": {},
   "source": [
    "Ayrıca TL ile para kazananların ünvanlarına göre ortalama kazandıkları ücret tabloda yer almaktadır. "
   ]
  },
  {
   "cell_type": "code",
   "execution_count": 43,
   "id": "a03dd903",
   "metadata": {},
   "outputs": [
    {
     "data": {
      "text/plain": [
       "14377.716603882933"
      ]
     },
     "execution_count": 43,
     "metadata": {},
     "output_type": "execute_result"
    }
   ],
   "source": [
    "df_tl.salary_for_tl_currency.mean() #Ankete katılan herkesin ortalama maaşı"
   ]
  },
  {
   "cell_type": "markdown",
   "id": "7fe31342",
   "metadata": {},
   "source": [
    "Ünvan bakılmaksızın ortalama maaş ise yaklaşık 14500 liradır. "
   ]
  },
  {
   "cell_type": "markdown",
   "id": "9d7c5b76",
   "metadata": {},
   "source": [
    "### Parabirimlerine göre şehirler ve çalışan adetleri"
   ]
  },
  {
   "cell_type": "code",
   "execution_count": 44,
   "id": "94fd221e",
   "metadata": {},
   "outputs": [],
   "source": [
    "dfc = df.groupby('currency')['city'].value_counts()"
   ]
  },
  {
   "cell_type": "markdown",
   "id": "235d5d74",
   "metadata": {},
   "source": [
    "Bu kısım dolarla kazananların Türkiye'de de olduğu ve bu kişilerin de analizde yer almaları gerektiğini belirtmek için konulmuştur. Çalışmanın ilerleyen kısımlarında gösterilecektir."
   ]
  },
  {
   "cell_type": "code",
   "execution_count": 45,
   "id": "ad0c6b74",
   "metadata": {},
   "outputs": [
    {
     "data": {
      "text/plain": [
       "currency   city     \n",
       "$ - Dolar  Yurt Dışı    136\n",
       "           İstanbul     124\n",
       "           Ankara        34\n",
       "           İzmir         25\n",
       "           Dubai          8\n",
       "           Antalya        4\n",
       "           New York       4\n",
       "           Londra         3\n",
       "           Sydney         3\n",
       "           ABD            2\n",
       "Name: city, dtype: int64"
      ]
     },
     "execution_count": 45,
     "metadata": {},
     "output_type": "execute_result"
    }
   ],
   "source": [
    "dfc.head(10)"
   ]
  },
  {
   "cell_type": "markdown",
   "id": "183ba54d",
   "metadata": {},
   "source": [
    "### Analiz 4 - Şirket büyüklüğüne göre çalışanlara verilen maaşlar"
   ]
  },
  {
   "cell_type": "code",
   "execution_count": 46,
   "id": "ad01eacd",
   "metadata": {},
   "outputs": [
    {
     "data": {
      "text/plain": [
       "array(['50 - 100 Kişi', '100 - 250 Kişi', '250+', '10 - 25 Kişi',\n",
       "       '25 - 50 Kişi', '1 - 10 Kişi'], dtype=object)"
      ]
     },
     "execution_count": 46,
     "metadata": {},
     "output_type": "execute_result"
    }
   ],
   "source": [
    "df.company_size.unique()"
   ]
  },
  {
   "cell_type": "code",
   "execution_count": 47,
   "id": "33754575",
   "metadata": {},
   "outputs": [],
   "source": [
    "comp1 = df_tl.groupby('company_size')['salary_for_tl_currency'].mean()"
   ]
  },
  {
   "cell_type": "markdown",
   "id": "e8742405",
   "metadata": {},
   "source": [
    "Bu kısım index düzeltmesi yapılarak grafiğin daha 'okunabilir' hale gelmesi için yazılmıştır."
   ]
  },
  {
   "cell_type": "code",
   "execution_count": 48,
   "id": "b6abf7c6",
   "metadata": {},
   "outputs": [],
   "source": [
    "a = comp1[2]\n",
    "comp1[2] = comp1[3]\n",
    "comp1[3] = a"
   ]
  },
  {
   "cell_type": "code",
   "execution_count": 49,
   "id": "fe4c9d02",
   "metadata": {},
   "outputs": [],
   "source": [
    "b = comp1[3]\n",
    "comp1[3] = comp1[5]\n",
    "comp1[5] = b"
   ]
  },
  {
   "cell_type": "code",
   "execution_count": 50,
   "id": "46b4b2f0",
   "metadata": {},
   "outputs": [
    {
     "data": {
      "text/plain": [
       "company_size\n",
       "1 - 10 Kişi       10366.597725\n",
       "10 - 25 Kişi      11035.671100\n",
       "100 - 250 Kişi    13487.823440\n",
       "25 - 50 Kişi      14185.636856\n",
       "250+              16617.587259\n",
       "50 - 100 Kişi     15374.015748\n",
       "Name: salary_for_tl_currency, dtype: float64"
      ]
     },
     "execution_count": 50,
     "metadata": {},
     "output_type": "execute_result"
    }
   ],
   "source": [
    "comp1"
   ]
  },
  {
   "cell_type": "code",
   "execution_count": 51,
   "id": "bdaa82d4",
   "metadata": {},
   "outputs": [],
   "source": [
    "comp1.index = ['1-10', '10-25', '25-50', '50-100','100-250', '250+']"
   ]
  },
  {
   "cell_type": "code",
   "execution_count": 48,
   "id": "8b400ef5",
   "metadata": {},
   "outputs": [
    {
     "data": {
      "text/plain": [
       "<AxesSubplot:title={'center':'Şirket Büyüklüğü / Verilen Maaş'}, xlabel='Şirket Büyüklüğü (Kişi Adedi)', ylabel='salary (TL)'>"
      ]
     },
     "execution_count": 48,
     "metadata": {},
     "output_type": "execute_result"
    },
    {
     "data": {
      "image/png": "[encoded data removed]",
      "text/plain": [
       "<Figure size 432x288 with 1 Axes>"
      ]
     },
     "metadata": {},
     "output_type": "display_data"
    }
   ],
   "source": [
    "plt.style.use(\"fivethirtyeight\")\n",
    "comp1.plot(ylabel = \"salary (TL)\", ylim = (5000,18000), xlabel = \"Şirket Büyüklüğü (Kişi Adedi)\", title = \"Şirket Büyüklüğü / Verilen Maaş\")"
   ]
  },
  {
   "cell_type": "markdown",
   "id": "5b9e1c58",
   "metadata": {},
   "source": [
    "### Analiz 5 - Şirket Büyüklüğüne göre Tecrübe Ortalaması"
   ]
  },
  {
   "cell_type": "code",
   "execution_count": 52,
   "id": "5ebe4f8b",
   "metadata": {},
   "outputs": [],
   "source": [
    "comp2 = df_tl.groupby('company_size')['experience'].value_counts()"
   ]
  },
  {
   "cell_type": "code",
   "execution_count": 53,
   "id": "aef9621b",
   "metadata": {},
   "outputs": [
    {
     "data": {
      "text/plain": [
       "company_size    experience     \n",
       "1 - 10 Kişi     1 - 3 Yıl          297\n",
       "                0 - 1 Yıl          246\n",
       "                3 - 5 Yıl          151\n",
       "                10 - 14 Yıl         90\n",
       "                7 - 10 Yıl          89\n",
       "                5 - 7 Yıl           85\n",
       "                15 Yıl ve üzeri     72\n",
       "10 - 25 Kişi    1 - 3 Yıl          308\n",
       "                0 - 1 Yıl          177\n",
       "                3 - 5 Yıl          142\n",
       "                5 - 7 Yıl           96\n",
       "                10 - 14 Yıl         81\n",
       "                7 - 10 Yıl          78\n",
       "                15 Yıl ve üzeri     46\n",
       "100 - 250 Kişi  1 - 3 Yıl          175\n",
       "                3 - 5 Yıl          154\n",
       "                7 - 10 Yıl         116\n",
       "                5 - 7 Yıl          110\n",
       "                0 - 1 Yıl          104\n",
       "                10 - 14 Yıl        103\n",
       "                15 Yıl ve üzeri     54\n",
       "25 - 50 Kişi    1 - 3 Yıl          198\n",
       "                3 - 5 Yıl          136\n",
       "                0 - 1 Yıl          110\n",
       "                5 - 7 Yıl           88\n",
       "                10 - 14 Yıl         74\n",
       "                7 - 10 Yıl          68\n",
       "                15 Yıl ve üzeri     52\n",
       "250+            1 - 3 Yıl          667\n",
       "                3 - 5 Yıl          561\n",
       "                7 - 10 Yıl         491\n",
       "                5 - 7 Yıl          438\n",
       "                10 - 14 Yıl        403\n",
       "                0 - 1 Yıl          350\n",
       "                15 Yıl ve üzeri    212\n",
       "50 - 100 Kişi   1 - 3 Yıl          190\n",
       "                3 - 5 Yıl          170\n",
       "                5 - 7 Yıl          129\n",
       "                0 - 1 Yıl          103\n",
       "                7 - 10 Yıl         102\n",
       "                10 - 14 Yıl         86\n",
       "                15 Yıl ve üzeri     37\n",
       "Name: experience, dtype: int64"
      ]
     },
     "execution_count": 53,
     "metadata": {},
     "output_type": "execute_result"
    }
   ],
   "source": [
    "comp2"
   ]
  },
  {
   "cell_type": "code",
   "execution_count": 54,
   "id": "5636c221",
   "metadata": {},
   "outputs": [],
   "source": [
    "new_dict3 = {\n",
    "    \"experience\" : {\n",
    "        \"0 - 1 Yıl\" : 0.5,\n",
    "        \"1 - 3 Yıl\" : 2,\n",
    "        \"3 - 5 Yıl\" : 4,\n",
    "        \"5 - 7 Yıl\" : 6,\n",
    "        \"7 - 10 Yıl\" : 8.5,\n",
    "        \"10 - 14 Yıl\" : 12,\n",
    "        \"15 Yıl ve üzeri\" : 15,\n",
    "\n",
    "    }\n",
    "}\n",
    "df_tl = df_tl.replace(new_dict3)"
   ]
  },
  {
   "cell_type": "markdown",
   "id": "f1b0af0b",
   "metadata": {},
   "source": [
    "Tecrübe ortalamasının hesaplanması için sayısal değerlere ihtiyaç vardır. Bunun için değerler 'numeric'leştirilmiştir. Örneğin 1-3 yıl ortalama 2 yıl deneyim olarak alınmıştır. "
   ]
  },
  {
   "cell_type": "code",
   "execution_count": 55,
   "id": "7ff38ba5",
   "metadata": {},
   "outputs": [
    {
     "data": {
      "text/plain": [
       "0       2.0\n",
       "1       2.0\n",
       "2       0.5\n",
       "3       2.0\n",
       "4       4.0\n",
       "       ... \n",
       "7434    2.0\n",
       "7435    0.5\n",
       "7436    0.5\n",
       "7437    4.0\n",
       "7438    0.5\n",
       "Name: experience, Length: 7439, dtype: float64"
      ]
     },
     "execution_count": 55,
     "metadata": {},
     "output_type": "execute_result"
    }
   ],
   "source": [
    "pd.to_numeric(df_tl[\"experience\"])"
   ]
  },
  {
   "cell_type": "code",
   "execution_count": 56,
   "id": "9b6773df",
   "metadata": {},
   "outputs": [],
   "source": [
    "comp2 = df_tl.groupby('company_size')['experience'].mean()"
   ]
  },
  {
   "cell_type": "code",
   "execution_count": 57,
   "id": "e8a2d001",
   "metadata": {},
   "outputs": [],
   "source": [
    "a = comp2[2]\n",
    "comp2[2] = comp2[3]\n",
    "comp2[3] = a\n",
    "b = comp2[3]\n",
    "comp2[3] = comp2[5]\n",
    "comp2[5] = b\n",
    "comp2.index = ['1-10', '10-25', '25-50', '50-100','100-250', '250+']"
   ]
  },
  {
   "cell_type": "code",
   "execution_count": 58,
   "id": "1d2de440",
   "metadata": {},
   "outputs": [
    {
     "data": {
      "text/plain": [
       "<AxesSubplot:title={'center':'Şirket Büyüklüğü / Çalışanların Tecrübe Ortalaması (Yıl)'}, xlabel='Şirket Büyüklüğü (Kişi Adedi)', ylabel='Tecrübe(yıl)'>"
      ]
     },
     "execution_count": 58,
     "metadata": {},
     "output_type": "execute_result"
    },
    {
     "data": {
      "image/png": "[encoded data removed]",
      "text/plain": [
       "<Figure size 432x288 with 1 Axes>"
      ]
     },
     "metadata": {},
     "output_type": "display_data"
    }
   ],
   "source": [
    "plt.style.use(\"fivethirtyeight\")\n",
    "comp2.plot(ylabel = \"Tecrübe(yıl)\",ylim = (4,6.5), xlabel = \"Şirket Büyüklüğü (Kişi Adedi)\", title = \"Şirket Büyüklüğü / Çalışanların Tecrübe Ortalaması (Yıl)\")"
   ]
  },
  {
   "cell_type": "markdown",
   "id": "54d691ef",
   "metadata": {},
   "source": [
    "### Analiz 6 - Seviyeye göre tecrübe 2"
   ]
  },
  {
   "cell_type": "code",
   "execution_count": 59,
   "id": "af610ae7",
   "metadata": {},
   "outputs": [],
   "source": [
    "exp2 = df_tl.groupby('level')['experience'].mean()"
   ]
  },
  {
   "cell_type": "code",
   "execution_count": 60,
   "id": "1a24f739",
   "metadata": {},
   "outputs": [
    {
     "data": {
      "text/plain": [
       "<AxesSubplot:title={'center':'Level / Çalışanların Tecrübe Oranı (Yıl)'}, xlabel='Title/Ünvan', ylabel='Tecrübe(yıl)'>"
      ]
     },
     "execution_count": 60,
     "metadata": {},
     "output_type": "execute_result"
    },
    {
     "data": {
      "image/png": "[encoded data removed]",
      "text/plain": [
       "<Figure size 432x288 with 1 Axes>"
      ]
     },
     "metadata": {},
     "output_type": "display_data"
    }
   ],
   "source": [
    "plt.style.use(\"fivethirtyeight\")\n",
    "exp2.plot(ylabel = \"Tecrübe(yıl)\",ylim = (0,10), xlabel = \"Title/Ünvan\", title = \"Level / Çalışanların Tecrübe Oranı (Yıl)\", marker = \"X\")"
   ]
  },
  {
   "cell_type": "markdown",
   "id": "1976f022",
   "metadata": {},
   "source": [
    "Kıdemli çalışanların sektördeki deneyimleri ortalama 9 yıl iken juniorların yaklaşık 1 yıldır."
   ]
  },
  {
   "cell_type": "markdown",
   "id": "9efe1c7a",
   "metadata": {},
   "source": [
    "### Analiz 7 - Tecrübeye göre Maaş"
   ]
  },
  {
   "cell_type": "code",
   "execution_count": 61,
   "id": "b06efc18",
   "metadata": {},
   "outputs": [],
   "source": [
    "exp3 = df_tl.groupby('experience')['salary_for_tl_currency'].mean()"
   ]
  },
  {
   "cell_type": "code",
   "execution_count": 62,
   "id": "15e1da70",
   "metadata": {},
   "outputs": [
    {
     "data": {
      "text/plain": [
       "experience\n",
       "0.5      7367.298578\n",
       "2.0     10132.183908\n",
       "4.0     13918.642682\n",
       "6.0     16386.574074\n",
       "8.5     19068.287037\n",
       "12.0    22130.229420\n",
       "15.0    23562.650602\n",
       "Name: salary_for_tl_currency, dtype: float64"
      ]
     },
     "execution_count": 62,
     "metadata": {},
     "output_type": "execute_result"
    }
   ],
   "source": [
    "exp3"
   ]
  },
  {
   "cell_type": "code",
   "execution_count": 63,
   "id": "c72f67e8",
   "metadata": {},
   "outputs": [
    {
     "data": {
      "text/plain": [
       "<AxesSubplot:title={'center':'Çalışanların Tecrübesine Göre Aldıkları Maaşlar'}, xlabel='Deneyim Yılı', ylabel='Maaş'>"
      ]
     },
     "execution_count": 63,
     "metadata": {},
     "output_type": "execute_result"
    },
    {
     "data": {
      "image/png": "[encoded data removed]",
      "text/plain": [
       "<Figure size 432x288 with 1 Axes>"
      ]
     },
     "metadata": {},
     "output_type": "display_data"
    }
   ],
   "source": [
    "plt.style.use(\"fivethirtyeight\")\n",
    "exp3.plot.bar(ylabel = \"Maaş\", xlabel = \"Deneyim Yılı\", title = \"Çalışanların Tecrübesine Göre Aldıkları Maaşlar\")"
   ]
  },
  {
   "cell_type": "markdown",
   "id": "8e9354eb",
   "metadata": {},
   "source": [
    "Çalışanların sektördeki deneyimi yıl aldıkça ortalama maaşları da artmaktadır. "
   ]
  },
  {
   "cell_type": "markdown",
   "id": "f815df73",
   "metadata": {},
   "source": [
    "### Analiz 8 - 2021/22 Yılı Ortalama Maaşların Karşılıklı Üstünlükleri"
   ]
  },
  {
   "cell_type": "code",
   "execution_count": 64,
   "id": "ec22aeaf",
   "metadata": {},
   "outputs": [],
   "source": [
    "exp4 = df_tl.groupby('year')"
   ]
  },
  {
   "cell_type": "code",
   "execution_count": 65,
   "id": "97e955b6",
   "metadata": {},
   "outputs": [],
   "source": [
    "pie1= exp4.salary_for_tl_currency.mean()\n",
    "pie1.index = [\"2021\", \"2022\"]"
   ]
  },
  {
   "cell_type": "code",
   "execution_count": 66,
   "id": "8f5ed608",
   "metadata": {},
   "outputs": [
    {
     "data": {
      "text/plain": [
       "2021    10338.522208\n",
       "2022    16543.400846\n",
       "Name: salary_for_tl_currency, dtype: float64"
      ]
     },
     "execution_count": 66,
     "metadata": {},
     "output_type": "execute_result"
    }
   ],
   "source": [
    "pie1"
   ]
  },
  {
   "cell_type": "code",
   "execution_count": 67,
   "id": "bb165058",
   "metadata": {},
   "outputs": [
    {
     "data": {
      "text/plain": [
       "<matplotlib.legend.Legend at 0x2bffa445fa0>"
      ]
     },
     "execution_count": 67,
     "metadata": {},
     "output_type": "execute_result"
    },
    {
     "data": {
      "image/png": "[encoded data removed]",
      "text/plain": [
       "<Figure size 432x288 with 1 Axes>"
      ]
     },
     "metadata": {},
     "output_type": "display_data"
    }
   ],
   "source": [
    "plt.pie(pie1, autopct='%1.1f%%', explode=[0,0], shadow=True, startangle=90)\n",
    "pie1_ind = [\"2022\",\"2021\"]\n",
    "plt.legend(pie1_ind)"
   ]
  },
  {
   "cell_type": "markdown",
   "id": "ba3d273f",
   "metadata": {},
   "source": [
    "2021 yılı ve 2022 yılı ortalama maaşları bir pasta olsa pastanın %61 lik dilimini 2022 yılı alırdı.\n",
    "2021 yılı ortalama maaş : 10464 TL\n",
    "2022 yılı ortalama maaş : 16655 TL"
   ]
  },
  {
   "cell_type": "markdown",
   "id": "698ab9c7",
   "metadata": {},
   "source": [
    "Bunu bir de bar grafiğinde görelim."
   ]
  },
  {
   "cell_type": "code",
   "execution_count": 68,
   "id": "270480af",
   "metadata": {},
   "outputs": [
    {
     "data": {
      "text/plain": [
       "<matplotlib.legend.Legend at 0x2bffa4abe50>"
      ]
     },
     "execution_count": 68,
     "metadata": {},
     "output_type": "execute_result"
    },
    {
     "data": {
      "image/png": "[encoded data removed]",
      "text/plain": [
       "<Figure size 216x432 with 1 Axes>"
      ]
     },
     "metadata": {},
     "output_type": "display_data"
    }
   ],
   "source": [
    "plt.figure(figsize=(3,6))\n",
    "\n",
    "plt.bar(x = \"21/22\",height = pie1[1],color=\"#f05131\",label = \"2022\",width = 0.1)\n",
    "plt.bar(x = \"21/22\",height = pie1[0],color=\"#f9af2b\",label = \"2021\",width = 0.1)\n",
    "plt.legend(pie1_ind, loc = \"best\")"
   ]
  },
  {
   "cell_type": "markdown",
   "id": "aae60a60",
   "metadata": {},
   "source": [
    "### Analiz 9 - Çalışma Ortamına Göre Deneyimler"
   ]
  },
  {
   "cell_type": "code",
   "execution_count": 69,
   "id": "517e0304",
   "metadata": {},
   "outputs": [
    {
     "data": {
      "text/plain": [
       "array(['Pandemi Nedeniyle; Geçici Olarak Remote', 'Ofis', 'Remote',\n",
       "       'Hibrit (Ofis + Remote)',\n",
       "       'Pandemi Nedeniyle; Geçici Olarak Hibrit (Ofis + Remote)'],\n",
       "      dtype=object)"
      ]
     },
     "execution_count": 69,
     "metadata": {},
     "output_type": "execute_result"
    }
   ],
   "source": [
    "df_tl.work_type.unique()"
   ]
  },
  {
   "cell_type": "code",
   "execution_count": 70,
   "id": "7b11256f",
   "metadata": {},
   "outputs": [],
   "source": [
    "exp5 = df_tl.groupby('work_type')"
   ]
  },
  {
   "cell_type": "code",
   "execution_count": 71,
   "id": "e660a279",
   "metadata": {},
   "outputs": [],
   "source": [
    "bar1 = exp5.experience.mean()"
   ]
  },
  {
   "cell_type": "code",
   "execution_count": 72,
   "id": "8255faee",
   "metadata": {},
   "outputs": [],
   "source": [
    "bar1.index = ['Hibrit', 'Ofis', 'Geçici Hibrit', 'Geçici Ev','Ev']"
   ]
  },
  {
   "cell_type": "code",
   "execution_count": 73,
   "id": "1ef0676d",
   "metadata": {},
   "outputs": [
    {
     "data": {
      "text/plain": [
       "<AxesSubplot:title={'center':'Çalışma Tipi / Çalışanların Tecrübe Ortalaması (Yıl)'}, ylabel='Çalışma Tipi'>"
      ]
     },
     "execution_count": 73,
     "metadata": {},
     "output_type": "execute_result"
    },
    {
     "data": {
      "image/png": "[encoded data removed]",
      "text/plain": [
       "<Figure size 432x288 with 1 Axes>"
      ]
     },
     "metadata": {},
     "output_type": "display_data"
    }
   ],
   "source": [
    "plt.style.use(\"fivethirtyeight\")\n",
    "bar1.plot.barh(ylabel = \"Tecrübe\",ylim = (4,6.5), xlabel = \"Çalışma Tipi\", title = \"Çalışma Tipi / Çalışanların Tecrübe Ortalaması (Yıl)\")"
   ]
  },
  {
   "cell_type": "markdown",
   "id": "7a9146f1",
   "metadata": {},
   "source": [
    "Bu analiz sonuçları birbirine yakın olduğu için net değildir fakat sadece ofiste çalışanlarının deneyiminin ortalama deneyim yılından 1 yıl az olduğu görülür. Fakat pandemi nedeniyle geçici hibrit çalışanların da deneyiminin ortalamadan yüksek olması bu tezin anlamlılığını düşürür. Çünkü beklenen geçici hibrit çalışanların ofise geçmesidir.  "
   ]
  },
  {
   "cell_type": "markdown",
   "id": "9c75b3f1",
   "metadata": {},
   "source": [
    "### Türkiye'de Döviz ile Maaş Alanlar"
   ]
  },
  {
   "cell_type": "markdown",
   "id": "f1710443",
   "metadata": {},
   "source": [
    "Çalışmanın önceki kısmında döviz/tl değerini döndüren fonksiyondan ve dolarla maaş alan Türkiye ikametgahlılardan bahsetmiştik.\n",
    "Şimdi de sadece Türkiye'de oturan ve döviz ile para kazanan çalışanları inceleyelim."
   ]
  },
  {
   "cell_type": "code",
   "execution_count": 74,
   "id": "f0a51d84",
   "metadata": {},
   "outputs": [],
   "source": [
    "df_other.currency.unique()\n",
    "currencies = ['€ - Euro', '$ - Dolar', '£ - Sterlin', '₺ - Türk Lirası']"
   ]
  },
  {
   "cell_type": "code",
   "execution_count": 75,
   "id": "ce19e52f",
   "metadata": {},
   "outputs": [
    {
     "data": {
      "text/plain": [
       "array(['Yurt Dışı', 'Belcika', 'Kopenhag', 'Dubai', 'Ankara', 'Portekiz',\n",
       "       'izmir', 'İzmir', 'İstanbul', 'Londra', 'Berlin', 'San francisco',\n",
       "       'Münih ', 'London', 'Antalya', 'San Francisco ',\n",
       "       'Bucharest/Romania', '-', 'Londra ', 'Hamburg', 'Stuttgart ',\n",
       "       'Hollanda', 'Zürih', 'amsterdam', 'Rotterdam', 'New York', 'Bursa',\n",
       "       'Eskişehir ', 'Almanya ', 'Amsterdam', 'Paris', 'Zurich', 'Sydney',\n",
       "       'Arizona', 'Frankfurt', 'Austin, Texas', 'Eindhoven ',\n",
       "       'Braunschweig, Almanya', 'Bakü', 'New York ', 'Eskişehir', 'Konya',\n",
       "       'Krakow', 'Miami', 'İngiltere', 'Düsseldorf ', 'Köln', 'Belçika',\n",
       "       'Luxembourg', 'Utrecht', 'Isviçre', 'Seattle', 'Nürnberg',\n",
       "       'San Fransisco', 'Stokholm', 'Tallinn', 'ABD', 'Diğer', 'Muğla',\n",
       "       'Washington', 'Şırnak', 'Kaliforniya', 'Antalya ', 'İtalya',\n",
       "       'Letonya', 'Berlin ', 'Indianapolis', 'costarica', 'Bratislava ',\n",
       "       'Sofia', 'Dublin', 'Almanya', 'Kiev', 'Los Angeles', 'Kopenhag ',\n",
       "       'Palo Alto', 'Amsterdam ', 'Montreuil', 'Kütahya ', 'Helsinki',\n",
       "       'Adıyaman', 'Diyarbakır', 'Varşova', 'Irvine', 'Brüksel',\n",
       "       'Kuzey Amerika', 'Malatya ', 'Oslo', 'Trabzon', 'Münih',\n",
       "       'Connecticut', 'Çanakkale', 'adana'], dtype=object)"
      ]
     },
     "execution_count": 75,
     "metadata": {},
     "output_type": "execute_result"
    }
   ],
   "source": [
    "df_other.city.unique()"
   ]
  },
  {
   "cell_type": "code",
   "execution_count": 76,
   "id": "199e38ca",
   "metadata": {},
   "outputs": [],
   "source": [
    "cities = ['Ankara',\n",
    "       'izmir', 'İzmir', 'İstanbul', \n",
    "       'Antalya', \n",
    "        'Bursa',\n",
    "       'Eskişehir ','Eskişehir',\n",
    "       'Kocaeli', 'Kocaeli ', 'Gaziantep', 'Konya', 'Bolu', 'Kayseri ',\n",
    "       'Malatya', 'Muğla',\n",
    "       'Denizli', 'Çanakkale','Düzce', 'Edirne',\n",
    "       'Samsun', 'Hatay', 'Çorum', 'Antalya ', 'Kırklareli ', 'Adana',\n",
    "       'Tokat','Kayseri', 'Mersin ', 'Tekirdağ',\n",
    "       'Sakarya','Yalova', 'kocaeli',\n",
    "       'Şanlıurfa','Trabzon', 'Mersin', 'Bandırma',\n",
    "      'Şırnak', 'Erzurum', 'Zonguldak',\n",
    "       'Manisa', 'Sakarya ','Kütahya', 'Kahramanmaraş',\n",
    "       'Niğde', 'Aydın', 'kayseri', 'Ordu', 'Elazığ',\n",
    "       'Kahramanmaraş ', 'Sivas','İzmit',\n",
    "       'elazığ','bursa',\n",
    "       'Edremit', 'hatay','Diyarbakır',\n",
    "       'Erzurum ','Uşak', 'Şanlıurfa ',\n",
    "       'çorum', 'Kırşehir','Gaziantep ', 'antalya',\n",
    "       'Isparta', 'trabzon', 'Bayburt ','aydin',\n",
    "      'Karabük', 'Amasya',\n",
    "       'Kütahya ', 'edirne','Eskisehir', 'sakarya',\n",
    "       'Adıyaman', 'Afyon', 'Erzincan',\n",
    "       'Siirt', 'ESKİŞEHİR', 'Kastamonu', 'Malatya ',\n",
    "       'adana', 'Alanya ','DENİZLİ', 'Trabzon ', 'Tekirdağ ',\n",
    "       'Konya ', 'Samsun ']"
   ]
  },
  {
   "cell_type": "markdown",
   "id": "6f949880",
   "metadata": {},
   "source": [
    "Burada isin() fonksiyonu ile bu alanı daraltıyoruz ve istediğimiz verisetini oluşturuyoruz."
   ]
  },
  {
   "cell_type": "code",
   "execution_count": 77,
   "id": "526562ef",
   "metadata": {},
   "outputs": [],
   "source": [
    "df_trDoviz = df_other[(df_other[\"currency\"].isin(currencies)) & (df_other[\"city\"].isin(cities))]"
   ]
  },
  {
   "cell_type": "code",
   "execution_count": 78,
   "id": "543f3e07",
   "metadata": {
    "scrolled": false
   },
   "outputs": [
    {
     "data": {
      "text/html": [
       "<div>\n",
       "<style scoped>\n",
       "    .dataframe tbody tr th:only-of-type {\n",
       "        vertical-align: middle;\n",
       "    }\n",
       "\n",
       "    .dataframe tbody tr th {\n",
       "        vertical-align: top;\n",
       "    }\n",
       "\n",
       "    .dataframe thead th {\n",
       "        text-align: right;\n",
       "    }\n",
       "</style>\n",
       "<table border=\"1\" class=\"dataframe\">\n",
       "  <thead>\n",
       "    <tr style=\"text-align: right;\">\n",
       "      <th></th>\n",
       "      <th>level_0</th>\n",
       "      <th>index</th>\n",
       "      <th>level</th>\n",
       "      <th>position</th>\n",
       "      <th>tech_stack</th>\n",
       "      <th>experience</th>\n",
       "      <th>gender</th>\n",
       "      <th>company</th>\n",
       "      <th>company_size</th>\n",
       "      <th>work_type</th>\n",
       "      <th>city</th>\n",
       "      <th>currency</th>\n",
       "      <th>salary_for_other_currency</th>\n",
       "      <th>year</th>\n",
       "    </tr>\n",
       "  </thead>\n",
       "  <tbody>\n",
       "    <tr>\n",
       "      <th>4</th>\n",
       "      <td>4</td>\n",
       "      <td>37</td>\n",
       "      <td>Junior</td>\n",
       "      <td>Mobile Application Developer</td>\n",
       "      <td>Kotlin</td>\n",
       "      <td>0 - 1 Yıl</td>\n",
       "      <td>Erkek</td>\n",
       "      <td>SaaS sağlayıcı</td>\n",
       "      <td>50 - 100 Kişi</td>\n",
       "      <td>Ofis</td>\n",
       "      <td>Ankara</td>\n",
       "      <td>$ - Dolar</td>\n",
       "      <td>4500</td>\n",
       "      <td>2021</td>\n",
       "    </tr>\n",
       "    <tr>\n",
       "      <th>18</th>\n",
       "      <td>18</td>\n",
       "      <td>181</td>\n",
       "      <td>Senior</td>\n",
       "      <td>CTO</td>\n",
       "      <td>Java</td>\n",
       "      <td>5 - 7 Yıl</td>\n",
       "      <td>Kadın</td>\n",
       "      <td>Startup</td>\n",
       "      <td>1 - 10 Kişi</td>\n",
       "      <td>Remote</td>\n",
       "      <td>izmir</td>\n",
       "      <td>$ - Dolar</td>\n",
       "      <td>4500</td>\n",
       "      <td>2021</td>\n",
       "    </tr>\n",
       "    <tr>\n",
       "      <th>23</th>\n",
       "      <td>23</td>\n",
       "      <td>244</td>\n",
       "      <td>Senior</td>\n",
       "      <td>Data Scientist</td>\n",
       "      <td>Python</td>\n",
       "      <td>5 - 7 Yıl</td>\n",
       "      <td>Erkek</td>\n",
       "      <td>Startup</td>\n",
       "      <td>100 - 250 Kişi</td>\n",
       "      <td>Pandemi Nedeniyle; Geçici Olarak Hibrit (Ofis ...</td>\n",
       "      <td>İzmir</td>\n",
       "      <td>$ - Dolar</td>\n",
       "      <td>2500</td>\n",
       "      <td>2021</td>\n",
       "    </tr>\n",
       "    <tr>\n",
       "      <th>25</th>\n",
       "      <td>25</td>\n",
       "      <td>252</td>\n",
       "      <td>Senior</td>\n",
       "      <td>Team Lead</td>\n",
       "      <td>.Net, Php, Python</td>\n",
       "      <td>10 - 14 Yıl</td>\n",
       "      <td>Erkek</td>\n",
       "      <td>Kurumsal</td>\n",
       "      <td>250+</td>\n",
       "      <td>Pandemi Nedeniyle; Geçici Olarak Hibrit (Ofis ...</td>\n",
       "      <td>İstanbul</td>\n",
       "      <td>€ - Euro</td>\n",
       "      <td>5500</td>\n",
       "      <td>2021</td>\n",
       "    </tr>\n",
       "  </tbody>\n",
       "</table>\n",
       "</div>"
      ],
      "text/plain": [
       "    level_0  index   level                      position         tech_stack  \\\n",
       "4         4     37  Junior  Mobile Application Developer             Kotlin   \n",
       "18       18    181  Senior                           CTO               Java   \n",
       "23       23    244  Senior                Data Scientist             Python   \n",
       "25       25    252  Senior                     Team Lead  .Net, Php, Python   \n",
       "\n",
       "     experience gender         company    company_size  \\\n",
       "4     0 - 1 Yıl  Erkek  SaaS sağlayıcı   50 - 100 Kişi   \n",
       "18    5 - 7 Yıl  Kadın         Startup     1 - 10 Kişi   \n",
       "23    5 - 7 Yıl  Erkek         Startup  100 - 250 Kişi   \n",
       "25  10 - 14 Yıl  Erkek        Kurumsal            250+   \n",
       "\n",
       "                                            work_type      city   currency  \\\n",
       "4                                                Ofis    Ankara  $ - Dolar   \n",
       "18                                             Remote     izmir  $ - Dolar   \n",
       "23  Pandemi Nedeniyle; Geçici Olarak Hibrit (Ofis ...     İzmir  $ - Dolar   \n",
       "25  Pandemi Nedeniyle; Geçici Olarak Hibrit (Ofis ...  İstanbul   € - Euro   \n",
       "\n",
       "   salary_for_other_currency  year  \n",
       "4                       4500  2021  \n",
       "18                      4500  2021  \n",
       "23                      2500  2021  \n",
       "25                      5500  2021  "
      ]
     },
     "execution_count": 78,
     "metadata": {},
     "output_type": "execute_result"
    }
   ],
   "source": [
    "df_trDoviz.head(4)"
   ]
  },
  {
   "cell_type": "code",
   "execution_count": 79,
   "id": "ccb865fa",
   "metadata": {},
   "outputs": [
    {
     "name": "stderr",
     "output_type": "stream",
     "text": [
      "C:\\Users\\demir\\AppData\\Local\\Temp/ipykernel_14732/512427012.py:1: SettingWithCopyWarning: \n",
      "A value is trying to be set on a copy of a slice from a DataFrame.\n",
      "Try using .loc[row_indexer,col_indexer] = value instead\n",
      "\n",
      "See the caveats in the documentation: https://pandas.pydata.org/pandas-docs/stable/user_guide/indexing.html#returning-a-view-versus-a-copy\n",
      "  df_trDoviz[\"Tl_Salary\"] = df_other[\"salary_for_other_currency\"]\n",
      "C:\\anaconda\\lib\\site-packages\\pandas\\core\\indexing.py:1732: SettingWithCopyWarning: \n",
      "A value is trying to be set on a copy of a slice from a DataFrame\n",
      "\n",
      "See the caveats in the documentation: https://pandas.pydata.org/pandas-docs/stable/user_guide/indexing.html#returning-a-view-versus-a-copy\n",
      "  self._setitem_single_block(indexer, value, name)\n"
     ]
    }
   ],
   "source": [
    "\n",
    "df_trDoviz[\"Tl_Salary\"] = df_other[\"salary_for_other_currency\"]\n",
    "def DovizCevir(df):\n",
    "    for i in range(0,len(df[\"currency\"])):\n",
    "        if df.currency.iloc[i] == \"$ - Dolar\":\n",
    "            df.Tl_Salary.iloc[i] = df.salary_for_other_currency.iloc[i] * dolar\n",
    "        elif df.currency.iloc[i] == \"€ - Euro\":\n",
    "            df.Tl_Salary.iloc[i] = df.salary_for_other_currency.iloc[i] * euro\n",
    "        elif df.currency.iloc[i] == \"£ - Sterlin\":\n",
    "            df.Tl_Salary.iloc[i] = df.salary_for_other_currency.iloc[i] * sterlin\n",
    "        else:\n",
    "            df.Tl_Salary.iloc[i] = df.salary_for_other_currency.iloc[i] \n",
    "try:\n",
    "    DovizCevir(df_trDoviz)\n",
    "except Exception:\n",
    "    pass\n"
   ]
  },
  {
   "cell_type": "code",
   "execution_count": 80,
   "id": "b0e27545",
   "metadata": {},
   "outputs": [
    {
     "data": {
      "text/html": [
       "<div>\n",
       "<style scoped>\n",
       "    .dataframe tbody tr th:only-of-type {\n",
       "        vertical-align: middle;\n",
       "    }\n",
       "\n",
       "    .dataframe tbody tr th {\n",
       "        vertical-align: top;\n",
       "    }\n",
       "\n",
       "    .dataframe thead th {\n",
       "        text-align: right;\n",
       "    }\n",
       "</style>\n",
       "<table border=\"1\" class=\"dataframe\">\n",
       "  <thead>\n",
       "    <tr style=\"text-align: right;\">\n",
       "      <th></th>\n",
       "      <th>level_0</th>\n",
       "      <th>index</th>\n",
       "      <th>level</th>\n",
       "      <th>position</th>\n",
       "      <th>tech_stack</th>\n",
       "      <th>experience</th>\n",
       "      <th>gender</th>\n",
       "      <th>company</th>\n",
       "      <th>company_size</th>\n",
       "      <th>work_type</th>\n",
       "      <th>city</th>\n",
       "      <th>currency</th>\n",
       "      <th>salary_for_other_currency</th>\n",
       "      <th>year</th>\n",
       "      <th>Tl_Salary</th>\n",
       "    </tr>\n",
       "  </thead>\n",
       "  <tbody>\n",
       "    <tr>\n",
       "      <th>4</th>\n",
       "      <td>4</td>\n",
       "      <td>37</td>\n",
       "      <td>Junior</td>\n",
       "      <td>Mobile Application Developer</td>\n",
       "      <td>Kotlin</td>\n",
       "      <td>0 - 1 Yıl</td>\n",
       "      <td>Erkek</td>\n",
       "      <td>SaaS sağlayıcı</td>\n",
       "      <td>50 - 100 Kişi</td>\n",
       "      <td>Ofis</td>\n",
       "      <td>Ankara</td>\n",
       "      <td>$ - Dolar</td>\n",
       "      <td>4500</td>\n",
       "      <td>2021</td>\n",
       "      <td>75372.75</td>\n",
       "    </tr>\n",
       "    <tr>\n",
       "      <th>18</th>\n",
       "      <td>18</td>\n",
       "      <td>181</td>\n",
       "      <td>Senior</td>\n",
       "      <td>CTO</td>\n",
       "      <td>Java</td>\n",
       "      <td>5 - 7 Yıl</td>\n",
       "      <td>Kadın</td>\n",
       "      <td>Startup</td>\n",
       "      <td>1 - 10 Kişi</td>\n",
       "      <td>Remote</td>\n",
       "      <td>izmir</td>\n",
       "      <td>$ - Dolar</td>\n",
       "      <td>4500</td>\n",
       "      <td>2021</td>\n",
       "      <td>75372.75</td>\n",
       "    </tr>\n",
       "    <tr>\n",
       "      <th>23</th>\n",
       "      <td>23</td>\n",
       "      <td>244</td>\n",
       "      <td>Senior</td>\n",
       "      <td>Data Scientist</td>\n",
       "      <td>Python</td>\n",
       "      <td>5 - 7 Yıl</td>\n",
       "      <td>Erkek</td>\n",
       "      <td>Startup</td>\n",
       "      <td>100 - 250 Kişi</td>\n",
       "      <td>Pandemi Nedeniyle; Geçici Olarak Hibrit (Ofis ...</td>\n",
       "      <td>İzmir</td>\n",
       "      <td>$ - Dolar</td>\n",
       "      <td>2500</td>\n",
       "      <td>2021</td>\n",
       "      <td>41873.75</td>\n",
       "    </tr>\n",
       "    <tr>\n",
       "      <th>25</th>\n",
       "      <td>25</td>\n",
       "      <td>252</td>\n",
       "      <td>Senior</td>\n",
       "      <td>Team Lead</td>\n",
       "      <td>.Net, Php, Python</td>\n",
       "      <td>10 - 14 Yıl</td>\n",
       "      <td>Erkek</td>\n",
       "      <td>Kurumsal</td>\n",
       "      <td>250+</td>\n",
       "      <td>Pandemi Nedeniyle; Geçici Olarak Hibrit (Ofis ...</td>\n",
       "      <td>İstanbul</td>\n",
       "      <td>€ - Euro</td>\n",
       "      <td>5500</td>\n",
       "      <td>2021</td>\n",
       "      <td>96072.9</td>\n",
       "    </tr>\n",
       "    <tr>\n",
       "      <th>27</th>\n",
       "      <td>27</td>\n",
       "      <td>274</td>\n",
       "      <td>Senior</td>\n",
       "      <td>Software Development Manager</td>\n",
       "      <td>Java, Python, Ruby</td>\n",
       "      <td>7 - 10 Yıl</td>\n",
       "      <td>Erkek</td>\n",
       "      <td>Danışmanlık</td>\n",
       "      <td>25 - 50 Kişi</td>\n",
       "      <td>Remote</td>\n",
       "      <td>İstanbul</td>\n",
       "      <td>$ - Dolar</td>\n",
       "      <td>5500</td>\n",
       "      <td>2021</td>\n",
       "      <td>92122.25</td>\n",
       "    </tr>\n",
       "  </tbody>\n",
       "</table>\n",
       "</div>"
      ],
      "text/plain": [
       "    level_0  index   level                      position          tech_stack  \\\n",
       "4         4     37  Junior  Mobile Application Developer              Kotlin   \n",
       "18       18    181  Senior                           CTO                Java   \n",
       "23       23    244  Senior                Data Scientist              Python   \n",
       "25       25    252  Senior                     Team Lead   .Net, Php, Python   \n",
       "27       27    274  Senior  Software Development Manager  Java, Python, Ruby   \n",
       "\n",
       "     experience gender         company    company_size  \\\n",
       "4     0 - 1 Yıl  Erkek  SaaS sağlayıcı   50 - 100 Kişi   \n",
       "18    5 - 7 Yıl  Kadın         Startup     1 - 10 Kişi   \n",
       "23    5 - 7 Yıl  Erkek         Startup  100 - 250 Kişi   \n",
       "25  10 - 14 Yıl  Erkek        Kurumsal            250+   \n",
       "27   7 - 10 Yıl  Erkek     Danışmanlık    25 - 50 Kişi   \n",
       "\n",
       "                                            work_type      city   currency  \\\n",
       "4                                                Ofis    Ankara  $ - Dolar   \n",
       "18                                             Remote     izmir  $ - Dolar   \n",
       "23  Pandemi Nedeniyle; Geçici Olarak Hibrit (Ofis ...     İzmir  $ - Dolar   \n",
       "25  Pandemi Nedeniyle; Geçici Olarak Hibrit (Ofis ...  İstanbul   € - Euro   \n",
       "27                                             Remote  İstanbul  $ - Dolar   \n",
       "\n",
       "   salary_for_other_currency  year Tl_Salary  \n",
       "4                       4500  2021  75372.75  \n",
       "18                      4500  2021  75372.75  \n",
       "23                      2500  2021  41873.75  \n",
       "25                      5500  2021   96072.9  \n",
       "27                      5500  2021  92122.25  "
      ]
     },
     "execution_count": 80,
     "metadata": {},
     "output_type": "execute_result"
    }
   ],
   "source": [
    "df_trDoviz.head(5)"
   ]
  },
  {
   "cell_type": "markdown",
   "id": "4076a480",
   "metadata": {},
   "source": [
    "Türkiye'de Ünvanlara göre Tl ile maaş alanlar ve Döviz ile maaş alanların grafiğine bakalım."
   ]
  },
  {
   "cell_type": "code",
   "execution_count": 81,
   "id": "f6e46f36",
   "metadata": {},
   "outputs": [
    {
     "data": {
      "text/plain": [
       "<AxesSubplot:title={'center':'TR döviz maaş alanlar'}, xlabel='level'>"
      ]
     },
     "execution_count": 81,
     "metadata": {},
     "output_type": "execute_result"
    },
    {
     "data": {
      "image/png": "[encoded data removed]",
      "text/plain": [
       "<Figure size 432x288 with 2 Axes>"
      ]
     },
     "metadata": {},
     "output_type": "display_data"
    }
   ],
   "source": [
    "plt.subplot(1,3,1)\n",
    "lev1.plot.bar(ylabel = \"salary (TL)\",title = \"TR tl maaş alanlar\")\n",
    "plt.subplot(1,3,3)\n",
    "lev3 = df_trDoviz.groupby('level')['Tl_Salary'].mean()\n",
    "plt.style.use(\"fivethirtyeight\")\n",
    "lev3.plot.bar(title = \"TR döviz maaş alanlar\")"
   ]
  },
  {
   "cell_type": "markdown",
   "id": "80900e3f",
   "metadata": {},
   "source": [
    "Döviz ile maaş alanların ortalaması beklendiği üzere çok daha fazladır.\n",
    "Dikkat çeken bir diğer konu ise döviz ile maaş alanlar içerisinde ünvan farklılığı maaşa daha az yansımaktadır. \n",
    "Sayısal adedinden emin olmak için analizi yapılan kişi sayısına bakalım."
   ]
  },
  {
   "cell_type": "code",
   "execution_count": 82,
   "id": "28884d02",
   "metadata": {},
   "outputs": [
    {
     "data": {
      "text/plain": [
       "level\n",
       "Junior     20\n",
       "Middle     83\n",
       "Senior    172\n",
       "Name: year, dtype: int64"
      ]
     },
     "execution_count": 82,
     "metadata": {},
     "output_type": "execute_result"
    }
   ],
   "source": [
    "df_trDoviz.groupby('level')[\"year\"].count()#year önemsiz herhangi bir kolon adı yeterli.."
   ]
  },
  {
   "cell_type": "markdown",
   "id": "a493caa7",
   "metadata": {},
   "source": [
    "Kişi sayısı bu veriseti özelinde biraz azdır fakat junior ve middle ünvanlarının maaşları seniorlara çok yakındır. . "
   ]
  },
  {
   "cell_type": "markdown",
   "id": "3f7b44c5",
   "metadata": {},
   "source": [
    "### 2021 yılı ve 2022 yılı Ortalama Maaş Değişimi"
   ]
  },
  {
   "cell_type": "code",
   "execution_count": 83,
   "id": "a6034589",
   "metadata": {},
   "outputs": [
    {
     "data": {
      "text/plain": [
       "<AxesSubplot:title={'center':'Tr Döviz Maaş Ortalamasında 1 Yıl İçindeki Değişim'}, xlabel='year'>"
      ]
     },
     "execution_count": 83,
     "metadata": {},
     "output_type": "execute_result"
    },
    {
     "data": {
      "image/png": "[encoded data removed]",
      "text/plain": [
       "<Figure size 432x288 with 1 Axes>"
      ]
     },
     "metadata": {},
     "output_type": "display_data"
    }
   ],
   "source": [
    "lev4 = df_trDoviz.groupby('year')['Tl_Salary'].mean()\n",
    "plt.style.use(\"fivethirtyeight\")\n",
    "lev4.plot(title = \"Tr Döviz Maaş Ortalamasında 1 Yıl İçindeki Değişim\", ylim = (25000,110000))"
   ]
  },
  {
   "cell_type": "markdown",
   "id": "d77cd7eb",
   "metadata": {},
   "source": [
    "2022 yılında maaşların önemli bir derecede azaldığı görülmektedir. Bu analiz Tr'de döviz kazananlar için yapılmıştır. Farklılığı incelemek adına bir de Tl kazananlara bakalım."
   ]
  },
  {
   "cell_type": "code",
   "execution_count": 84,
   "id": "e01fffe5",
   "metadata": {},
   "outputs": [
    {
     "data": {
      "text/plain": [
       "<AxesSubplot:title={'center':'TL Maaş Ortalamasında 1 Yıl İçindeki Değişim'}, xlabel='year'>"
      ]
     },
     "execution_count": 84,
     "metadata": {},
     "output_type": "execute_result"
    },
    {
     "data": {
      "image/png": "[encoded data removed]",
      "text/plain": [
       "<Figure size 432x288 with 1 Axes>"
      ]
     },
     "metadata": {},
     "output_type": "display_data"
    }
   ],
   "source": [
    "lev6 = df_tl.groupby('year')['salary_for_tl_currency'].mean()\n",
    "plt.style.use(\"fivethirtyeight\")\n",
    "lev6.plot(title = \"TL Maaş Ortalamasında 1 Yıl İçindeki Değişim\")"
   ]
  },
  {
   "cell_type": "markdown",
   "id": "592ed88e",
   "metadata": {},
   "source": [
    "TL olarak maaş alanlarda ise maaş ortalamasının arttığı görülmektedir. Asgari ücret ve enflasyon düşünüldüğünde bu oran normal gözükmektedir."
   ]
  },
  {
   "cell_type": "markdown",
   "id": "42fbee9f",
   "metadata": {},
   "source": [
    "Döviz ile maaş alanlarda görülen ünvanlara göre dağılım yakınlığının sebebini ve Döviz olarak maaş alanlarda 2022 yılında neden düşüş yaşandığını araştıralım."
   ]
  },
  {
   "cell_type": "code",
   "execution_count": 85,
   "id": "9d25d188",
   "metadata": {},
   "outputs": [
    {
     "data": {
      "text/plain": [
       "275"
      ]
     },
     "execution_count": 85,
     "metadata": {},
     "output_type": "execute_result"
    }
   ],
   "source": [
    "len(df_trDoviz)"
   ]
  },
  {
   "cell_type": "code",
   "execution_count": 86,
   "id": "ba58ee1d",
   "metadata": {},
   "outputs": [
    {
     "data": {
      "text/plain": [
       "(764, 14)"
      ]
     },
     "execution_count": 86,
     "metadata": {},
     "output_type": "execute_result"
    }
   ],
   "source": [
    "df_other.shape"
   ]
  },
  {
   "cell_type": "code",
   "execution_count": 87,
   "id": "0584e0a7",
   "metadata": {},
   "outputs": [
    {
     "data": {
      "text/plain": [
       "(275, 15)"
      ]
     },
     "execution_count": 87,
     "metadata": {},
     "output_type": "execute_result"
    }
   ],
   "source": [
    "df_trDoviz.shape"
   ]
  },
  {
   "cell_type": "code",
   "execution_count": 88,
   "id": "3963d8d6",
   "metadata": {},
   "outputs": [],
   "source": [
    "df_trDoviz2 = df_trDoviz.reset_index(drop = True)"
   ]
  },
  {
   "cell_type": "markdown",
   "id": "cad9478b",
   "metadata": {},
   "source": [
    "reset_index birkaç kez çağrıldıktan sonra buga girebilmektedir. Bunun yaşanmaması adına kopyalayarak kullanacağız."
   ]
  },
  {
   "cell_type": "code",
   "execution_count": 89,
   "id": "815e786f",
   "metadata": {},
   "outputs": [
    {
     "data": {
      "text/html": [
       "<div>\n",
       "<style scoped>\n",
       "    .dataframe tbody tr th:only-of-type {\n",
       "        vertical-align: middle;\n",
       "    }\n",
       "\n",
       "    .dataframe tbody tr th {\n",
       "        vertical-align: top;\n",
       "    }\n",
       "\n",
       "    .dataframe thead th {\n",
       "        text-align: right;\n",
       "    }\n",
       "</style>\n",
       "<table border=\"1\" class=\"dataframe\">\n",
       "  <thead>\n",
       "    <tr style=\"text-align: right;\">\n",
       "      <th></th>\n",
       "      <th>level_0</th>\n",
       "      <th>index</th>\n",
       "      <th>level</th>\n",
       "      <th>position</th>\n",
       "      <th>tech_stack</th>\n",
       "      <th>experience</th>\n",
       "      <th>gender</th>\n",
       "      <th>company</th>\n",
       "      <th>company_size</th>\n",
       "      <th>work_type</th>\n",
       "      <th>city</th>\n",
       "      <th>currency</th>\n",
       "      <th>salary_for_other_currency</th>\n",
       "      <th>year</th>\n",
       "      <th>Tl_Salary</th>\n",
       "    </tr>\n",
       "  </thead>\n",
       "  <tbody>\n",
       "    <tr>\n",
       "      <th>0</th>\n",
       "      <td>4</td>\n",
       "      <td>37</td>\n",
       "      <td>Junior</td>\n",
       "      <td>Mobile Application Developer</td>\n",
       "      <td>Kotlin</td>\n",
       "      <td>0 - 1 Yıl</td>\n",
       "      <td>Erkek</td>\n",
       "      <td>SaaS sağlayıcı</td>\n",
       "      <td>50 - 100 Kişi</td>\n",
       "      <td>Ofis</td>\n",
       "      <td>Ankara</td>\n",
       "      <td>$ - Dolar</td>\n",
       "      <td>4500</td>\n",
       "      <td>2021</td>\n",
       "      <td>75372.75</td>\n",
       "    </tr>\n",
       "    <tr>\n",
       "      <th>32</th>\n",
       "      <td>116</td>\n",
       "      <td>1295</td>\n",
       "      <td>Junior</td>\n",
       "      <td>Embedded Software Developer</td>\n",
       "      <td>C / C++</td>\n",
       "      <td>1 - 3 Yıl</td>\n",
       "      <td>Erkek</td>\n",
       "      <td>Outsource</td>\n",
       "      <td>50 - 100 Kişi</td>\n",
       "      <td>Hibrit (Ofis + Remote)</td>\n",
       "      <td>İzmir</td>\n",
       "      <td>€ - Euro</td>\n",
       "      <td>9500</td>\n",
       "      <td>2021</td>\n",
       "      <td>165944.1</td>\n",
       "    </tr>\n",
       "    <tr>\n",
       "      <th>44</th>\n",
       "      <td>167</td>\n",
       "      <td>1886</td>\n",
       "      <td>Junior</td>\n",
       "      <td>Front-end Developer</td>\n",
       "      <td>Python, JavaScript | Html | Css</td>\n",
       "      <td>15 Yıl ve üzeri</td>\n",
       "      <td>Erkek</td>\n",
       "      <td>Kurumsal</td>\n",
       "      <td>250+</td>\n",
       "      <td>Pandemi Nedeniyle; Geçici Olarak Hibrit (Ofis ...</td>\n",
       "      <td>İstanbul</td>\n",
       "      <td>$ - Dolar</td>\n",
       "      <td>10500</td>\n",
       "      <td>2021</td>\n",
       "      <td>175869.75</td>\n",
       "    </tr>\n",
       "    <tr>\n",
       "      <th>68</th>\n",
       "      <td>232</td>\n",
       "      <td>2665</td>\n",
       "      <td>Junior</td>\n",
       "      <td>Full Stack Developer</td>\n",
       "      <td>.Net, Swift / Objective C, JavaScript | Html |...</td>\n",
       "      <td>1 - 3 Yıl</td>\n",
       "      <td>Erkek</td>\n",
       "      <td>Startup</td>\n",
       "      <td>25 - 50 Kişi</td>\n",
       "      <td>Ofis</td>\n",
       "      <td>İstanbul</td>\n",
       "      <td>€ - Euro</td>\n",
       "      <td>2500</td>\n",
       "      <td>2022</td>\n",
       "      <td>43669.5</td>\n",
       "    </tr>\n",
       "    <tr>\n",
       "      <th>104</th>\n",
       "      <td>320</td>\n",
       "      <td>3554</td>\n",
       "      <td>Junior</td>\n",
       "      <td>Game Developer</td>\n",
       "      <td>.Net, Unity</td>\n",
       "      <td>1 - 3 Yıl</td>\n",
       "      <td>Erkek</td>\n",
       "      <td>Oyun</td>\n",
       "      <td>1 - 10 Kişi</td>\n",
       "      <td>Remote</td>\n",
       "      <td>İstanbul</td>\n",
       "      <td>$ - Dolar</td>\n",
       "      <td>2500</td>\n",
       "      <td>2022</td>\n",
       "      <td>41873.75</td>\n",
       "    </tr>\n",
       "    <tr>\n",
       "      <th>120</th>\n",
       "      <td>364</td>\n",
       "      <td>3995</td>\n",
       "      <td>Junior</td>\n",
       "      <td>Mobile Application Developer</td>\n",
       "      <td>Kotlin</td>\n",
       "      <td>0 - 1 Yıl</td>\n",
       "      <td>Erkek</td>\n",
       "      <td>Startup</td>\n",
       "      <td>100 - 250 Kişi</td>\n",
       "      <td>Remote</td>\n",
       "      <td>Ankara</td>\n",
       "      <td>$ - Dolar</td>\n",
       "      <td>10500</td>\n",
       "      <td>2022</td>\n",
       "      <td>175869.75</td>\n",
       "    </tr>\n",
       "  </tbody>\n",
       "</table>\n",
       "</div>"
      ],
      "text/plain": [
       "     level_0  index   level                      position  \\\n",
       "0          4     37  Junior  Mobile Application Developer   \n",
       "32       116   1295  Junior   Embedded Software Developer   \n",
       "44       167   1886  Junior           Front-end Developer   \n",
       "68       232   2665  Junior          Full Stack Developer   \n",
       "104      320   3554  Junior                Game Developer   \n",
       "120      364   3995  Junior  Mobile Application Developer   \n",
       "\n",
       "                                            tech_stack       experience  \\\n",
       "0                                               Kotlin        0 - 1 Yıl   \n",
       "32                                             C / C++        1 - 3 Yıl   \n",
       "44                     Python, JavaScript | Html | Css  15 Yıl ve üzeri   \n",
       "68   .Net, Swift / Objective C, JavaScript | Html |...        1 - 3 Yıl   \n",
       "104                                        .Net, Unity        1 - 3 Yıl   \n",
       "120                                             Kotlin        0 - 1 Yıl   \n",
       "\n",
       "    gender         company    company_size  \\\n",
       "0    Erkek  SaaS sağlayıcı   50 - 100 Kişi   \n",
       "32   Erkek       Outsource   50 - 100 Kişi   \n",
       "44   Erkek        Kurumsal            250+   \n",
       "68   Erkek         Startup    25 - 50 Kişi   \n",
       "104  Erkek            Oyun     1 - 10 Kişi   \n",
       "120  Erkek         Startup  100 - 250 Kişi   \n",
       "\n",
       "                                             work_type      city   currency  \\\n",
       "0                                                 Ofis    Ankara  $ - Dolar   \n",
       "32                              Hibrit (Ofis + Remote)     İzmir   € - Euro   \n",
       "44   Pandemi Nedeniyle; Geçici Olarak Hibrit (Ofis ...  İstanbul  $ - Dolar   \n",
       "68                                                Ofis  İstanbul   € - Euro   \n",
       "104                                             Remote  İstanbul  $ - Dolar   \n",
       "120                                             Remote    Ankara  $ - Dolar   \n",
       "\n",
       "    salary_for_other_currency  year  Tl_Salary  \n",
       "0                        4500  2021   75372.75  \n",
       "32                       9500  2021   165944.1  \n",
       "44                      10500  2021  175869.75  \n",
       "68                       2500  2022    43669.5  \n",
       "104                      2500  2022   41873.75  \n",
       "120                     10500  2022  175869.75  "
      ]
     },
     "execution_count": 89,
     "metadata": {},
     "output_type": "execute_result"
    }
   ],
   "source": [
    "df_trDoviz2[(df_trDoviz2[\"level\"] == \"Junior\") & (df_trDoviz2[\"Tl_Salary\"] >= 35000)]"
   ]
  },
  {
   "cell_type": "markdown",
   "id": "ea818d72",
   "metadata": {},
   "source": [
    "Junior 20 kişi vardır ve ortalamayı yükselten 6 kişi gösterilmiştir. Bunlarda 2 tanesi Junior olmasına rağmen 12500 dolar, yaklaşık 190 bin tl aylık kazanca sahiptir. Onlara yakın bir diğer kişi ise aylık 9500 dolar kazanmaktadır. Bu üç kişi çıkartılırsa grafik şöyle gözükecektir. "
   ]
  },
  {
   "cell_type": "code",
   "execution_count": 90,
   "id": "54ca913f",
   "metadata": {},
   "outputs": [],
   "source": [
    "indd = list(df_trDoviz[df_trDoviz[\"index\"].isin([1295,1886,3995])].index)"
   ]
  },
  {
   "cell_type": "code",
   "execution_count": 91,
   "id": "7cdcea9f",
   "metadata": {},
   "outputs": [
    {
     "name": "stderr",
     "output_type": "stream",
     "text": [
      "C:\\anaconda\\lib\\site-packages\\pandas\\core\\frame.py:4906: SettingWithCopyWarning: \n",
      "A value is trying to be set on a copy of a slice from a DataFrame\n",
      "\n",
      "See the caveats in the documentation: https://pandas.pydata.org/pandas-docs/stable/user_guide/indexing.html#returning-a-view-versus-a-copy\n",
      "  return super().drop(\n"
     ]
    }
   ],
   "source": [
    "df_trDoviz.drop([indd[0],indd[1],indd[2]], axis=0, inplace=True)"
   ]
  },
  {
   "cell_type": "code",
   "execution_count": 92,
   "id": "f8c34630",
   "metadata": {},
   "outputs": [
    {
     "data": {
      "text/plain": [
       "<AxesSubplot:title={'center':'TR döviz maaş alanlar'}, xlabel='level'>"
      ]
     },
     "execution_count": 92,
     "metadata": {},
     "output_type": "execute_result"
    },
    {
     "data": {
      "image/png": "[encoded data removed]",
      "text/plain": [
       "<Figure size 432x288 with 2 Axes>"
      ]
     },
     "metadata": {},
     "output_type": "display_data"
    }
   ],
   "source": [
    "plt.subplot(1,3,1)\n",
    "lev1.plot.bar(ylabel = \"salary (TL)\",title = \"TR tl maaş alanlar\")\n",
    "plt.subplot(1,3,3)\n",
    "lev7 = df_trDoviz.groupby('level')['Tl_Salary'].mean()\n",
    "plt.style.use(\"fivethirtyeight\")\n",
    "lev7.plot.bar(title = \"TR döviz maaş alanlar\")"
   ]
  },
  {
   "cell_type": "markdown",
   "id": "1a395376",
   "metadata": {},
   "source": [
    "Görüldüğü gibi o 3 kişinin datasetten çıkarılması grafiği beklenen duruma getirmiştir. Burada beklenen durumun 'kıdemlilerin daha fazla para kazanması' çıkarımı ise toplumsal normlardan ziyade sayısal olarak da yüksek verili verisetlerinde görülmektedir. "
   ]
  },
  {
   "cell_type": "code",
   "execution_count": 93,
   "id": "32f714f1",
   "metadata": {},
   "outputs": [
    {
     "data": {
      "text/plain": [
       "15.333333333333334"
      ]
     },
     "execution_count": 93,
     "metadata": {},
     "output_type": "execute_result"
    }
   ],
   "source": [
    "len(df_trDoviz2[(df_trDoviz2[\"year\"] == 2021) & (df_trDoviz2[\"level\"] == \"Senior\")])/len(df_trDoviz2[(df_trDoviz2[\"year\"] == 2021) & (df_trDoviz2[\"level\"] == \"Junior\")])"
   ]
  },
  {
   "cell_type": "code",
   "execution_count": 94,
   "id": "04d57fb7",
   "metadata": {},
   "outputs": [
    {
     "data": {
      "text/plain": [
       "7.411764705882353"
      ]
     },
     "execution_count": 94,
     "metadata": {},
     "output_type": "execute_result"
    }
   ],
   "source": [
    "len(df_trDoviz2[(df_trDoviz2[\"year\"] == 2022) & (df_trDoviz2[\"level\"] == \"Senior\")])/len(df_trDoviz2[(df_trDoviz2[\"year\"] == 2022) & (df_trDoviz2[\"level\"] == \"Junior\")])"
   ]
  },
  {
   "cell_type": "markdown",
   "id": "1a4cb58f",
   "metadata": {},
   "source": [
    "2021 yılında Senior ünvanına sahip çalışanların Junior'lardan 15 kat daha fazla oldukları görülmektedir.\n",
    "2022 yılında ise bu oran 7.41'dir. Bu oran 2022 yılında ortalama maaşların düşüklüğünü açıklamak için bir gözlemdir."
   ]
  },
  {
   "cell_type": "code",
   "execution_count": 95,
   "id": "22ed15a2",
   "metadata": {},
   "outputs": [],
   "source": [
    "new_dict5 = {\n",
    "    \"experience\" : {\n",
    "        \"0 - 1 Yıl\" : 0.5,\n",
    "        \"1 - 3 Yıl\" : 2,\n",
    "        \"3 - 5 Yıl\" : 4,\n",
    "        \"5 - 7 Yıl\" : 6,\n",
    "        \"7 - 10 Yıl\" : 8.5,\n",
    "        \"10 - 14 Yıl\" : 12,\n",
    "        \"15 Yıl ve üzeri\" : 15,\n",
    "\n",
    "    }\n",
    "}\n",
    "df_trDoviz2 = df_trDoviz2.replace(new_dict5)"
   ]
  },
  {
   "cell_type": "code",
   "execution_count": 96,
   "id": "f1118e83",
   "metadata": {},
   "outputs": [
    {
     "data": {
      "text/plain": [
       "0       0.5\n",
       "1       6.0\n",
       "2       6.0\n",
       "3      12.0\n",
       "4       8.5\n",
       "       ... \n",
       "270     8.5\n",
       "271     4.0\n",
       "272     2.0\n",
       "273     8.5\n",
       "274    15.0\n",
       "Name: experience, Length: 275, dtype: float64"
      ]
     },
     "execution_count": 96,
     "metadata": {},
     "output_type": "execute_result"
    }
   ],
   "source": [
    "pd.to_numeric(df_trDoviz2[\"experience\"])"
   ]
  },
  {
   "cell_type": "code",
   "execution_count": 97,
   "id": "d4d9307c",
   "metadata": {},
   "outputs": [
    {
     "data": {
      "text/plain": [
       "1.4444444444444444"
      ]
     },
     "execution_count": 97,
     "metadata": {},
     "output_type": "execute_result"
    }
   ],
   "source": [
    "len(df_trDoviz2[(df_trDoviz2[\"year\"] == 2021) & (df_trDoviz2[\"experience\"] >= 8)])/len(df_trDoviz2[(df_trDoviz2[\"year\"] == 2021) & (df_trDoviz2[\"experience\"] < 8)])"
   ]
  },
  {
   "cell_type": "code",
   "execution_count": 98,
   "id": "14cd8d42",
   "metadata": {},
   "outputs": [
    {
     "data": {
      "text/plain": [
       "0.7863247863247863"
      ]
     },
     "execution_count": 98,
     "metadata": {},
     "output_type": "execute_result"
    }
   ],
   "source": [
    "len(df_trDoviz2[(df_trDoviz2[\"year\"] == 2022) & (df_trDoviz2[\"experience\"] >= 8)])/len(df_trDoviz2[(df_trDoviz2[\"year\"] == 2022) & (df_trDoviz2[\"experience\"] < 8)])"
   ]
  },
  {
   "cell_type": "markdown",
   "id": "3047718f",
   "metadata": {},
   "source": [
    "Yukarıdaki ünvan oranına yakın bir durum ise tecrübedir. 8 yıldan fazla tecrübeli çalışan sayısının 8 yıldan az tecrübeye sahip çalışan sayısına oranı 2021'de 1.44 iken 2022'de 0.78 dir. "
   ]
  },
  {
   "cell_type": "code",
   "execution_count": 99,
   "id": "06a832c0",
   "metadata": {},
   "outputs": [],
   "source": [
    "comp5 = df_trDoviz2.groupby('company_size')['experience'].mean()"
   ]
  },
  {
   "cell_type": "code",
   "execution_count": 100,
   "id": "9a251c58",
   "metadata": {},
   "outputs": [
    {
     "data": {
      "text/plain": [
       "<AxesSubplot:title={'center':'Şirket Büyüklüğü / Çalışanların Tecrübe Ortalaması (Yıl)'}, xlabel='Şirket Büyüklüğü (Kişi Adedi)', ylabel='Tecrübe(yıl)'>"
      ]
     },
     "execution_count": 100,
     "metadata": {},
     "output_type": "execute_result"
    },
    {
     "data": {
      "image/png": "[encoded data removed]",
      "text/plain": [
       "<Figure size 432x288 with 1 Axes>"
      ]
     },
     "metadata": {},
     "output_type": "display_data"
    }
   ],
   "source": [
    "aa = comp5[2]\n",
    "comp5[2] = comp5[3]\n",
    "comp5[3] = aa\n",
    "bb = comp5[3]\n",
    "comp5[3] = comp5[5]\n",
    "comp5[5] = bb\n",
    "comp5.index = ['1-10', '10-25', '25-50', '50-100','100-250', '250+']\n",
    "comp5.plot(ylabel = \"Tecrübe(yıl)\", xlabel = \"Şirket Büyüklüğü (Kişi Adedi)\", title = \"Şirket Büyüklüğü / Çalışanların Tecrübe Ortalaması (Yıl)\")"
   ]
  },
  {
   "cell_type": "code",
   "execution_count": 101,
   "id": "4e6f97a3",
   "metadata": {},
   "outputs": [
    {
     "data": {
      "text/plain": [
       "0.3469387755102041"
      ]
     },
     "execution_count": 101,
     "metadata": {},
     "output_type": "execute_result"
    }
   ],
   "source": [
    "len(df_trDoviz2[(df_trDoviz2[\"year\"] == 2021) & (df_trDoviz2[\"company_size\"].isin([\"100 - 250 Kişi\",\"100 - 250 Kişi\",\"250+\"]))])/len(df_trDoviz2[(df_trDoviz2[\"year\"] == 2021) & (df_trDoviz2[\"company_size\"].isin([\"10 - 25 Kişi\",\"1 - 10 Kişi\",\"25 - 50 Kişi\",\"50 - 100 Kişi\"]))])"
   ]
  },
  {
   "cell_type": "code",
   "execution_count": 102,
   "id": "41786f07",
   "metadata": {},
   "outputs": [
    {
     "data": {
      "text/plain": [
       "0.41216216216216217"
      ]
     },
     "execution_count": 102,
     "metadata": {},
     "output_type": "execute_result"
    }
   ],
   "source": [
    "len(df_trDoviz2[(df_trDoviz2[\"year\"] == 2022) & (df_trDoviz2[\"company_size\"].isin([\"100 - 250 Kişi\",\"100 - 250 Kişi\",\"250+\"]))])/len(df_trDoviz2[(df_trDoviz2[\"year\"] == 2022) & (df_trDoviz2[\"company_size\"].isin([\"10 - 25 Kişi\",\"1 - 10 Kişi\",\"25 - 50 Kişi\",\"50 - 100 Kişi\"]))])"
   ]
  },
  {
   "cell_type": "markdown",
   "id": "91a095c8",
   "metadata": {},
   "source": [
    "Bu alanda görüldüğü üzere Döviz üzerinden kazananların şirketlerinde kişi adedine göre ölçülük büyüklük baz alındığında ortalama tecrübe yılı(tecrübe arttıkça kazanç artar demiştik) doğru bir oranda artmamaktadır. Yani nüfusu fazla yazılımcı bulunduran şirketlerde yeni işe başlayan kişi sayısı daha fazla olmakta, bu durumda ortalama deneyim yılı düşmekte ve yeni başlayanlara daha düşük ücret ödendiğinden verilen ortalama maaş düşmektedir. \n",
    "\n",
    "Bu sebepten kodlarda gördüğümüz 2021 yılında 100 kişiden fazla kişi çalıştıran şirketlerin 100den az kişi çalıştıran şirketlerdeki çalışan sayısına oranı 2022 den düşük çıkması 2022 yılında kaydedilen anket sonucundaki çalışanların, 21 yılına göre biraz daha fazla oranla nüfusu az olan şirketlerde çalıştığı anlaşılmaktadır. Fakat şirket büyüklüğünün ücret olarak net bir anlam ifade etmemesi 2022 yılında döviz kazananların ortalama maaşlarının düşmesini açıklamaz. "
   ]
  },
  {
   "cell_type": "markdown",
   "id": "bea672b4",
   "metadata": {},
   "source": [
    "## Genel Yorum"
   ]
  },
  {
   "cell_type": "markdown",
   "id": "c87095a9",
   "metadata": {},
   "source": [
    "Çalışmamız bir veri seti üzerinden hangi analizlerin yapılabileceğini ve ne şekilde düşünmemiz gerektiğini bir ölçüde gösterebilmek amacıyla yapılmıştır. \n",
    "\n",
    "Bu çalışmada 2021 ve 2022 yılında ankete dahil olan bir grup yazılımcı hakkında bilgiler toparlanmış ve düzenlenmiştir. Daha sonrasında bu veriler üzerinde analizler yapılarak grafik üzerinde anlamlandırılmaya çalışılmıştır. "
   ]
  },
  {
   "cell_type": "code",
   "execution_count": null,
   "id": "84ec4f05",
   "metadata": {},
   "outputs": [],
   "source": []
  },
  {
   "cell_type": "code",
   "execution_count": null,
   "id": "9d7c4934",
   "metadata": {},
   "outputs": [],
   "source": []
  }
 ],
 "metadata": {
  "kernelspec": {
   "display_name": "Python 3 (ipykernel)",
   "language": "python",
   "name": "python3"
  },
  "language_info": {
   "codemirror_mode": {
    "name": "ipython",
    "version": 3
   },
   "file_extension": ".py",
   "mimetype": "text/x-python",
   "name": "python",
   "nbconvert_exporter": "python",
   "pygments_lexer": "ipython3",
   "version": "3.9.7"
  }
 },
 "nbformat": 4,
 "nbformat_minor": 5
}
